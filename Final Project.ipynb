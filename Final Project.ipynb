{
 "cells": [
  {
   "cell_type": "code",
   "execution_count": 293,
   "id": "5b082cfe-aa80-473f-82dd-44152d630dc3",
   "metadata": {},
   "outputs": [],
   "source": [
    "import pandas as pd\n",
    "from datetime import datetime\n",
    "import warnings\n",
    "import matplotlib.pyplot as plt\n",
    "import plotly.graph_objects as go\n",
    "warnings.filterwarnings(\"ignore\")"
   ]
  },
  {
   "cell_type": "code",
   "execution_count": 269,
   "id": "482dfeb0-94c8-4a51-89a1-ac64700b4bde",
   "metadata": {},
   "outputs": [],
   "source": [
    "df1 = pd.read_csv('Electricity_20-09-2024.csv', delimiter = ';')\n",
    "df2 = pd.read_csv('sahkon-hinta-010121-240924.csv')"
   ]
  },
  {
   "cell_type": "code",
   "execution_count": 272,
   "id": "7b6ee61e-de80-4a4d-86c1-e1309ffed3dc",
   "metadata": {},
   "outputs": [
    {
     "data": {
      "text/html": [
       "<div>\n",
       "<style scoped>\n",
       "    .dataframe tbody tr th:only-of-type {\n",
       "        vertical-align: middle;\n",
       "    }\n",
       "\n",
       "    .dataframe tbody tr th {\n",
       "        vertical-align: top;\n",
       "    }\n",
       "\n",
       "    .dataframe thead th {\n",
       "        text-align: right;\n",
       "    }\n",
       "</style>\n",
       "<table border=\"1\" class=\"dataframe\">\n",
       "  <thead>\n",
       "    <tr style=\"text-align: right;\">\n",
       "      <th></th>\n",
       "      <th>Time</th>\n",
       "      <th>Energy (kWh)</th>\n",
       "      <th>Energy night(kWh)</th>\n",
       "      <th>Energy day (kWh)</th>\n",
       "      <th>Temperature</th>\n",
       "      <th>Date</th>\n",
       "    </tr>\n",
       "  </thead>\n",
       "  <tbody>\n",
       "    <tr>\n",
       "      <th>0</th>\n",
       "      <td>2020-01-01 00:00:00</td>\n",
       "      <td>5,210</td>\n",
       "      <td>5,210</td>\n",
       "      <td>NaN</td>\n",
       "      <td>-3,4</td>\n",
       "      <td>2020-01-01</td>\n",
       "    </tr>\n",
       "    <tr>\n",
       "      <th>1</th>\n",
       "      <td>2020-01-01 01:00:00</td>\n",
       "      <td>4,774</td>\n",
       "      <td>4,774</td>\n",
       "      <td>NaN</td>\n",
       "      <td>-2,5</td>\n",
       "      <td>2020-01-01</td>\n",
       "    </tr>\n",
       "    <tr>\n",
       "      <th>2</th>\n",
       "      <td>2020-01-01 02:00:00</td>\n",
       "      <td>4,481</td>\n",
       "      <td>4,481</td>\n",
       "      <td>NaN</td>\n",
       "      <td>-4,1</td>\n",
       "      <td>2020-01-01</td>\n",
       "    </tr>\n",
       "    <tr>\n",
       "      <th>3</th>\n",
       "      <td>2020-01-01 03:00:00</td>\n",
       "      <td>4,110</td>\n",
       "      <td>4,110</td>\n",
       "      <td>NaN</td>\n",
       "      <td>-2,7</td>\n",
       "      <td>2020-01-01</td>\n",
       "    </tr>\n",
       "    <tr>\n",
       "      <th>4</th>\n",
       "      <td>2020-01-01 04:00:00</td>\n",
       "      <td>1,531</td>\n",
       "      <td>1,531</td>\n",
       "      <td>NaN</td>\n",
       "      <td>-4,5</td>\n",
       "      <td>2020-01-01</td>\n",
       "    </tr>\n",
       "    <tr>\n",
       "      <th>...</th>\n",
       "      <td>...</td>\n",
       "      <td>...</td>\n",
       "      <td>...</td>\n",
       "      <td>...</td>\n",
       "      <td>...</td>\n",
       "      <td>...</td>\n",
       "    </tr>\n",
       "    <tr>\n",
       "      <th>41442</th>\n",
       "      <td>2024-09-22 19:00:00</td>\n",
       "      <td>0,000</td>\n",
       "      <td>NaN</td>\n",
       "      <td>0,000</td>\n",
       "      <td>6,3</td>\n",
       "      <td>2024-09-22</td>\n",
       "    </tr>\n",
       "    <tr>\n",
       "      <th>41443</th>\n",
       "      <td>2024-09-22 20:00:00</td>\n",
       "      <td>0,000</td>\n",
       "      <td>NaN</td>\n",
       "      <td>0,000</td>\n",
       "      <td>4,1</td>\n",
       "      <td>2024-09-22</td>\n",
       "    </tr>\n",
       "    <tr>\n",
       "      <th>41444</th>\n",
       "      <td>2024-09-22 21:00:00</td>\n",
       "      <td>0,000</td>\n",
       "      <td>NaN</td>\n",
       "      <td>0,000</td>\n",
       "      <td>2,9</td>\n",
       "      <td>2024-09-22</td>\n",
       "    </tr>\n",
       "    <tr>\n",
       "      <th>41445</th>\n",
       "      <td>2024-09-22 22:00:00</td>\n",
       "      <td>0,000</td>\n",
       "      <td>0,000</td>\n",
       "      <td>NaN</td>\n",
       "      <td>2,3</td>\n",
       "      <td>2024-09-22</td>\n",
       "    </tr>\n",
       "    <tr>\n",
       "      <th>41446</th>\n",
       "      <td>2024-09-22 23:00:00</td>\n",
       "      <td>0,000</td>\n",
       "      <td>0,000</td>\n",
       "      <td>NaN</td>\n",
       "      <td>1,7</td>\n",
       "      <td>2024-09-22</td>\n",
       "    </tr>\n",
       "  </tbody>\n",
       "</table>\n",
       "<p>41447 rows × 6 columns</p>\n",
       "</div>"
      ],
      "text/plain": [
       "                     Time Energy (kWh) Energy night(kWh) Energy day (kWh)  \\\n",
       "0     2020-01-01 00:00:00        5,210             5,210              NaN   \n",
       "1     2020-01-01 01:00:00        4,774             4,774              NaN   \n",
       "2     2020-01-01 02:00:00        4,481             4,481              NaN   \n",
       "3     2020-01-01 03:00:00        4,110             4,110              NaN   \n",
       "4     2020-01-01 04:00:00        1,531             1,531              NaN   \n",
       "...                   ...          ...               ...              ...   \n",
       "41442 2024-09-22 19:00:00        0,000               NaN            0,000   \n",
       "41443 2024-09-22 20:00:00        0,000               NaN            0,000   \n",
       "41444 2024-09-22 21:00:00        0,000               NaN            0,000   \n",
       "41445 2024-09-22 22:00:00        0,000             0,000              NaN   \n",
       "41446 2024-09-22 23:00:00        0,000             0,000              NaN   \n",
       "\n",
       "      Temperature       Date  \n",
       "0            -3,4 2020-01-01  \n",
       "1            -2,5 2020-01-01  \n",
       "2            -4,1 2020-01-01  \n",
       "3            -2,7 2020-01-01  \n",
       "4            -4,5 2020-01-01  \n",
       "...           ...        ...  \n",
       "41442         6,3 2024-09-22  \n",
       "41443         4,1 2024-09-22  \n",
       "41444         2,9 2024-09-22  \n",
       "41445         2,3 2024-09-22  \n",
       "41446         1,7 2024-09-22  \n",
       "\n",
       "[41447 rows x 6 columns]"
      ]
     },
     "execution_count": 272,
     "metadata": {},
     "output_type": "execute_result"
    }
   ],
   "source": [
    "# Step 1: Trim whitespace\n",
    "df1['Time'] = df1['Time'].str.strip()\n",
    "\n",
    "# Step 2: Convert to datetime format\n",
    "df1['Time'] = pd.to_datetime(df1['Time'], format='%d.%m.%Y %H:%M', errors='coerce')\n",
    "df1['Date'] = df1['Time'].dt.date\n",
    "df1['Date'] = pd.to_datetime(df1['Date'], format='%Y-%m-%d', errors='coerce')\n",
    "\n",
    "df1"
   ]
  },
  {
   "cell_type": "code",
   "execution_count": 273,
   "id": "89dac6d8-a074-4f20-8d01-d47950eeb6a5",
   "metadata": {},
   "outputs": [
    {
     "name": "stdout",
     "output_type": "stream",
     "text": [
      "Time                 datetime64[ns]\n",
      "Energy (kWh)                float64\n",
      "Energy night(kWh)           float64\n",
      "Energy day (kWh)            float64\n",
      "Temperature                 float64\n",
      "Date                 datetime64[ns]\n",
      "dtype: object\n"
     ]
    },
    {
     "data": {
      "text/html": [
       "<div>\n",
       "<style scoped>\n",
       "    .dataframe tbody tr th:only-of-type {\n",
       "        vertical-align: middle;\n",
       "    }\n",
       "\n",
       "    .dataframe tbody tr th {\n",
       "        vertical-align: top;\n",
       "    }\n",
       "\n",
       "    .dataframe thead th {\n",
       "        text-align: right;\n",
       "    }\n",
       "</style>\n",
       "<table border=\"1\" class=\"dataframe\">\n",
       "  <thead>\n",
       "    <tr style=\"text-align: right;\">\n",
       "      <th></th>\n",
       "      <th>Time</th>\n",
       "      <th>Energy (kWh)</th>\n",
       "      <th>Energy night(kWh)</th>\n",
       "      <th>Energy day (kWh)</th>\n",
       "      <th>Temperature</th>\n",
       "      <th>Date</th>\n",
       "    </tr>\n",
       "  </thead>\n",
       "  <tbody>\n",
       "    <tr>\n",
       "      <th>0</th>\n",
       "      <td>2020-01-01 00:00:00</td>\n",
       "      <td>5210.0</td>\n",
       "      <td>5210.0</td>\n",
       "      <td>NaN</td>\n",
       "      <td>-34.0</td>\n",
       "      <td>2020-01-01</td>\n",
       "    </tr>\n",
       "    <tr>\n",
       "      <th>1</th>\n",
       "      <td>2020-01-01 01:00:00</td>\n",
       "      <td>4774.0</td>\n",
       "      <td>4774.0</td>\n",
       "      <td>NaN</td>\n",
       "      <td>-25.0</td>\n",
       "      <td>2020-01-01</td>\n",
       "    </tr>\n",
       "    <tr>\n",
       "      <th>2</th>\n",
       "      <td>2020-01-01 02:00:00</td>\n",
       "      <td>4481.0</td>\n",
       "      <td>4481.0</td>\n",
       "      <td>NaN</td>\n",
       "      <td>-41.0</td>\n",
       "      <td>2020-01-01</td>\n",
       "    </tr>\n",
       "    <tr>\n",
       "      <th>3</th>\n",
       "      <td>2020-01-01 03:00:00</td>\n",
       "      <td>4110.0</td>\n",
       "      <td>4110.0</td>\n",
       "      <td>NaN</td>\n",
       "      <td>-27.0</td>\n",
       "      <td>2020-01-01</td>\n",
       "    </tr>\n",
       "    <tr>\n",
       "      <th>4</th>\n",
       "      <td>2020-01-01 04:00:00</td>\n",
       "      <td>1531.0</td>\n",
       "      <td>1531.0</td>\n",
       "      <td>NaN</td>\n",
       "      <td>-45.0</td>\n",
       "      <td>2020-01-01</td>\n",
       "    </tr>\n",
       "  </tbody>\n",
       "</table>\n",
       "</div>"
      ],
      "text/plain": [
       "                 Time  Energy (kWh)  Energy night(kWh)  Energy day (kWh)  \\\n",
       "0 2020-01-01 00:00:00        5210.0             5210.0               NaN   \n",
       "1 2020-01-01 01:00:00        4774.0             4774.0               NaN   \n",
       "2 2020-01-01 02:00:00        4481.0             4481.0               NaN   \n",
       "3 2020-01-01 03:00:00        4110.0             4110.0               NaN   \n",
       "4 2020-01-01 04:00:00        1531.0             1531.0               NaN   \n",
       "\n",
       "   Temperature       Date  \n",
       "0        -34.0 2020-01-01  \n",
       "1        -25.0 2020-01-01  \n",
       "2        -41.0 2020-01-01  \n",
       "3        -27.0 2020-01-01  \n",
       "4        -45.0 2020-01-01  "
      ]
     },
     "execution_count": 273,
     "metadata": {},
     "output_type": "execute_result"
    }
   ],
   "source": [
    "# Define the columns to convert\n",
    "columns_to_convert = ['Energy (kWh)', 'Energy night(kWh)', 'Energy day (kWh)', 'Temperature']\n",
    "\n",
    "# Loop through each column\n",
    "for column in columns_to_convert:\n",
    "    # Remove commas\n",
    "    df1[column] = df1[column].str.replace(',', '', regex=False)\n",
    "    \n",
    "    # Convert to float, replacing NaNs with 0 if needed\n",
    "    df1[column] = df1[column].astype(float)\n",
    "\n",
    "# Check the data types after conversion\n",
    "print(df1.dtypes)\n",
    "# Fill null values in the Temperature column with 0\n",
    "df1['Temperature'] = df1['Temperature'].fillna(0)\n",
    "# Display the updated DataFrame\n",
    "df1.head()"
   ]
  },
  {
   "cell_type": "code",
   "execution_count": 276,
   "id": "8b428ee7-5765-4bf7-8846-7693da086b9f",
   "metadata": {},
   "outputs": [
    {
     "name": "stdout",
     "output_type": "stream",
     "text": [
      "Time                datetime64[ns]\n",
      "Price (cent/kWh)           float64\n",
      "Date                datetime64[ns]\n",
      "dtype: object\n"
     ]
    }
   ],
   "source": [
    "# Step 1: Trim whitespace\n",
    "df2['Time'] = df2['Time'].str.strip()\n",
    "\n",
    "# Step 2: Convert to datetime format\n",
    "df2['Time'] = pd.to_datetime(df2['Time'], format='%d-%m-%Y %H:%M:%S', errors='coerce')\n",
    "df2['Date'] = df2['Time'].dt.date\n",
    "df2['Date'] = pd.to_datetime(df2['Date'], format='%Y-%m-%d', errors='coerce')\n",
    "\n",
    "# Step 4: Check the data type\n",
    "print(df2.dtypes)"
   ]
  },
  {
   "cell_type": "code",
   "execution_count": 281,
   "id": "75153999-1e26-4b87-98b9-43b5e926b6aa",
   "metadata": {},
   "outputs": [
    {
     "data": {
      "text/html": [
       "<div>\n",
       "<style scoped>\n",
       "    .dataframe tbody tr th:only-of-type {\n",
       "        vertical-align: middle;\n",
       "    }\n",
       "\n",
       "    .dataframe tbody tr th {\n",
       "        vertical-align: top;\n",
       "    }\n",
       "\n",
       "    .dataframe thead th {\n",
       "        text-align: right;\n",
       "    }\n",
       "</style>\n",
       "<table border=\"1\" class=\"dataframe\">\n",
       "  <thead>\n",
       "    <tr style=\"text-align: right;\">\n",
       "      <th></th>\n",
       "      <th>Time</th>\n",
       "      <th>Energy (kWh)</th>\n",
       "      <th>Energy night(kWh)</th>\n",
       "      <th>Energy day (kWh)</th>\n",
       "      <th>Temperature</th>\n",
       "      <th>Date</th>\n",
       "      <th>Price (cent/kWh)</th>\n",
       "    </tr>\n",
       "  </thead>\n",
       "  <tbody>\n",
       "    <tr>\n",
       "      <th>0</th>\n",
       "      <td>2021-01-01 00:00:00</td>\n",
       "      <td>1988.0</td>\n",
       "      <td>1988.0</td>\n",
       "      <td>NaN</td>\n",
       "      <td>-9.0</td>\n",
       "      <td>2021-01-01</td>\n",
       "      <td>3.094</td>\n",
       "    </tr>\n",
       "    <tr>\n",
       "      <th>1</th>\n",
       "      <td>2021-01-01 01:00:00</td>\n",
       "      <td>1462.0</td>\n",
       "      <td>1462.0</td>\n",
       "      <td>NaN</td>\n",
       "      <td>-13.0</td>\n",
       "      <td>2021-01-01</td>\n",
       "      <td>3.019</td>\n",
       "    </tr>\n",
       "    <tr>\n",
       "      <th>2</th>\n",
       "      <td>2021-01-01 02:00:00</td>\n",
       "      <td>1101.0</td>\n",
       "      <td>1101.0</td>\n",
       "      <td>NaN</td>\n",
       "      <td>-14.0</td>\n",
       "      <td>2021-01-01</td>\n",
       "      <td>2.974</td>\n",
       "    </tr>\n",
       "    <tr>\n",
       "      <th>3</th>\n",
       "      <td>2021-01-01 03:00:00</td>\n",
       "      <td>1031.0</td>\n",
       "      <td>1031.0</td>\n",
       "      <td>NaN</td>\n",
       "      <td>-19.0</td>\n",
       "      <td>2021-01-01</td>\n",
       "      <td>2.941</td>\n",
       "    </tr>\n",
       "    <tr>\n",
       "      <th>4</th>\n",
       "      <td>2021-01-01 04:00:00</td>\n",
       "      <td>1044.0</td>\n",
       "      <td>1044.0</td>\n",
       "      <td>NaN</td>\n",
       "      <td>-19.0</td>\n",
       "      <td>2021-01-01</td>\n",
       "      <td>2.943</td>\n",
       "    </tr>\n",
       "  </tbody>\n",
       "</table>\n",
       "</div>"
      ],
      "text/plain": [
       "                 Time  Energy (kWh)  Energy night(kWh)  Energy day (kWh)  \\\n",
       "0 2021-01-01 00:00:00        1988.0             1988.0               NaN   \n",
       "1 2021-01-01 01:00:00        1462.0             1462.0               NaN   \n",
       "2 2021-01-01 02:00:00        1101.0             1101.0               NaN   \n",
       "3 2021-01-01 03:00:00        1031.0             1031.0               NaN   \n",
       "4 2021-01-01 04:00:00        1044.0             1044.0               NaN   \n",
       "\n",
       "   Temperature       Date  Price (cent/kWh)  \n",
       "0         -9.0 2021-01-01             3.094  \n",
       "1        -13.0 2021-01-01             3.019  \n",
       "2        -14.0 2021-01-01             2.974  \n",
       "3        -19.0 2021-01-01             2.941  \n",
       "4        -19.0 2021-01-01             2.943  "
      ]
     },
     "execution_count": 281,
     "metadata": {},
     "output_type": "execute_result"
    }
   ],
   "source": [
    "# Step 1: Join the DataFrames on 'Time'\n",
    "merged_df = pd.merge(df1, df2, on='Time', how='inner')\n",
    "\n",
    "# Step 2: Drop one of the Date columns\n",
    "merged_df = merged_df.drop(columns=['Date_y'])  # Drop 'Date_y', keeping 'Date_x' or rename it\n",
    "\n",
    "# Rename the remaining date column for clarity\n",
    "merged_df.rename(columns={'Date_x': 'Date'}, inplace=True)\n",
    "merged_df.head()"
   ]
  },
  {
   "cell_type": "code",
   "execution_count": 282,
   "id": "05f4d827-0ed4-41b3-8be9-72a9366b3ff9",
   "metadata": {},
   "outputs": [
    {
     "data": {
      "text/html": [
       "<div>\n",
       "<style scoped>\n",
       "    .dataframe tbody tr th:only-of-type {\n",
       "        vertical-align: middle;\n",
       "    }\n",
       "\n",
       "    .dataframe tbody tr th {\n",
       "        vertical-align: top;\n",
       "    }\n",
       "\n",
       "    .dataframe thead th {\n",
       "        text-align: right;\n",
       "    }\n",
       "</style>\n",
       "<table border=\"1\" class=\"dataframe\">\n",
       "  <thead>\n",
       "    <tr style=\"text-align: right;\">\n",
       "      <th></th>\n",
       "      <th>Time</th>\n",
       "      <th>Energy (kWh)</th>\n",
       "      <th>Energy night(kWh)</th>\n",
       "      <th>Energy day (kWh)</th>\n",
       "      <th>Temperature</th>\n",
       "      <th>Date</th>\n",
       "      <th>Price (cent/kWh)</th>\n",
       "      <th>Hourly Bill</th>\n",
       "    </tr>\n",
       "  </thead>\n",
       "  <tbody>\n",
       "    <tr>\n",
       "      <th>0</th>\n",
       "      <td>2021-01-01 00:00:00</td>\n",
       "      <td>1988.0</td>\n",
       "      <td>1988.0</td>\n",
       "      <td>NaN</td>\n",
       "      <td>-9.0</td>\n",
       "      <td>2021-01-01</td>\n",
       "      <td>3.094</td>\n",
       "      <td>61.50872</td>\n",
       "    </tr>\n",
       "    <tr>\n",
       "      <th>1</th>\n",
       "      <td>2021-01-01 01:00:00</td>\n",
       "      <td>1462.0</td>\n",
       "      <td>1462.0</td>\n",
       "      <td>NaN</td>\n",
       "      <td>-13.0</td>\n",
       "      <td>2021-01-01</td>\n",
       "      <td>3.019</td>\n",
       "      <td>44.13778</td>\n",
       "    </tr>\n",
       "    <tr>\n",
       "      <th>2</th>\n",
       "      <td>2021-01-01 02:00:00</td>\n",
       "      <td>1101.0</td>\n",
       "      <td>1101.0</td>\n",
       "      <td>NaN</td>\n",
       "      <td>-14.0</td>\n",
       "      <td>2021-01-01</td>\n",
       "      <td>2.974</td>\n",
       "      <td>32.74374</td>\n",
       "    </tr>\n",
       "    <tr>\n",
       "      <th>3</th>\n",
       "      <td>2021-01-01 03:00:00</td>\n",
       "      <td>1031.0</td>\n",
       "      <td>1031.0</td>\n",
       "      <td>NaN</td>\n",
       "      <td>-19.0</td>\n",
       "      <td>2021-01-01</td>\n",
       "      <td>2.941</td>\n",
       "      <td>30.32171</td>\n",
       "    </tr>\n",
       "    <tr>\n",
       "      <th>4</th>\n",
       "      <td>2021-01-01 04:00:00</td>\n",
       "      <td>1044.0</td>\n",
       "      <td>1044.0</td>\n",
       "      <td>NaN</td>\n",
       "      <td>-19.0</td>\n",
       "      <td>2021-01-01</td>\n",
       "      <td>2.943</td>\n",
       "      <td>30.72492</td>\n",
       "    </tr>\n",
       "    <tr>\n",
       "      <th>...</th>\n",
       "      <td>...</td>\n",
       "      <td>...</td>\n",
       "      <td>...</td>\n",
       "      <td>...</td>\n",
       "      <td>...</td>\n",
       "      <td>...</td>\n",
       "      <td>...</td>\n",
       "      <td>...</td>\n",
       "    </tr>\n",
       "    <tr>\n",
       "      <th>32664</th>\n",
       "      <td>2024-09-22 19:00:00</td>\n",
       "      <td>0.0</td>\n",
       "      <td>NaN</td>\n",
       "      <td>0.0</td>\n",
       "      <td>63.0</td>\n",
       "      <td>2024-09-22</td>\n",
       "      <td>32.162</td>\n",
       "      <td>0.00000</td>\n",
       "    </tr>\n",
       "    <tr>\n",
       "      <th>32665</th>\n",
       "      <td>2024-09-22 20:00:00</td>\n",
       "      <td>0.0</td>\n",
       "      <td>NaN</td>\n",
       "      <td>0.0</td>\n",
       "      <td>41.0</td>\n",
       "      <td>2024-09-22</td>\n",
       "      <td>18.769</td>\n",
       "      <td>0.00000</td>\n",
       "    </tr>\n",
       "    <tr>\n",
       "      <th>32666</th>\n",
       "      <td>2024-09-22 21:00:00</td>\n",
       "      <td>0.0</td>\n",
       "      <td>NaN</td>\n",
       "      <td>0.0</td>\n",
       "      <td>29.0</td>\n",
       "      <td>2024-09-22</td>\n",
       "      <td>14.297</td>\n",
       "      <td>0.00000</td>\n",
       "    </tr>\n",
       "    <tr>\n",
       "      <th>32667</th>\n",
       "      <td>2024-09-22 22:00:00</td>\n",
       "      <td>0.0</td>\n",
       "      <td>0.0</td>\n",
       "      <td>NaN</td>\n",
       "      <td>23.0</td>\n",
       "      <td>2024-09-22</td>\n",
       "      <td>12.692</td>\n",
       "      <td>0.00000</td>\n",
       "    </tr>\n",
       "    <tr>\n",
       "      <th>32668</th>\n",
       "      <td>2024-09-22 23:00:00</td>\n",
       "      <td>0.0</td>\n",
       "      <td>0.0</td>\n",
       "      <td>NaN</td>\n",
       "      <td>17.0</td>\n",
       "      <td>2024-09-22</td>\n",
       "      <td>9.316</td>\n",
       "      <td>0.00000</td>\n",
       "    </tr>\n",
       "  </tbody>\n",
       "</table>\n",
       "<p>32669 rows × 8 columns</p>\n",
       "</div>"
      ],
      "text/plain": [
       "                     Time  Energy (kWh)  Energy night(kWh)  Energy day (kWh)  \\\n",
       "0     2021-01-01 00:00:00        1988.0             1988.0               NaN   \n",
       "1     2021-01-01 01:00:00        1462.0             1462.0               NaN   \n",
       "2     2021-01-01 02:00:00        1101.0             1101.0               NaN   \n",
       "3     2021-01-01 03:00:00        1031.0             1031.0               NaN   \n",
       "4     2021-01-01 04:00:00        1044.0             1044.0               NaN   \n",
       "...                   ...           ...                ...               ...   \n",
       "32664 2024-09-22 19:00:00           0.0                NaN               0.0   \n",
       "32665 2024-09-22 20:00:00           0.0                NaN               0.0   \n",
       "32666 2024-09-22 21:00:00           0.0                NaN               0.0   \n",
       "32667 2024-09-22 22:00:00           0.0                0.0               NaN   \n",
       "32668 2024-09-22 23:00:00           0.0                0.0               NaN   \n",
       "\n",
       "       Temperature       Date  Price (cent/kWh)  Hourly Bill  \n",
       "0             -9.0 2021-01-01             3.094     61.50872  \n",
       "1            -13.0 2021-01-01             3.019     44.13778  \n",
       "2            -14.0 2021-01-01             2.974     32.74374  \n",
       "3            -19.0 2021-01-01             2.941     30.32171  \n",
       "4            -19.0 2021-01-01             2.943     30.72492  \n",
       "...            ...        ...               ...          ...  \n",
       "32664         63.0 2024-09-22            32.162      0.00000  \n",
       "32665         41.0 2024-09-22            18.769      0.00000  \n",
       "32666         29.0 2024-09-22            14.297      0.00000  \n",
       "32667         23.0 2024-09-22            12.692      0.00000  \n",
       "32668         17.0 2024-09-22             9.316      0.00000  \n",
       "\n",
       "[32669 rows x 8 columns]"
      ]
     },
     "execution_count": 282,
     "metadata": {},
     "output_type": "execute_result"
    }
   ],
   "source": [
    "# Step 3: Calculate hourly bill paid\n",
    "merged_df['Hourly Bill'] = merged_df['Energy (kWh)'] * (merged_df['Price (cent/kWh)'] / 100)\n",
    "\n",
    "# Display the merged DataFrame with Hourly Bill\n",
    "merged_df"
   ]
  },
  {
   "cell_type": "code",
   "execution_count": 283,
   "id": "1227f6a4-e6fd-4ed1-b5a6-cab581639d46",
   "metadata": {},
   "outputs": [
    {
     "name": "stdout",
     "output_type": "stream",
     "text": [
      "\n",
      "Daily Summary:\n",
      "            Daily_Consumption  Daily_Bill  Average_Price  Average_Temperature\n",
      "Date                                                                         \n",
      "2021-01-01            36701.0  1200.99139       3.255167           -31.541667\n",
      "2021-01-02            43606.0  1778.77449       4.068750           -50.291667\n",
      "2021-01-03            59927.0  1934.63688       3.202458           -95.125000\n",
      "2021-01-04            77953.0  4171.38492       5.376833          -177.333333\n",
      "2021-01-05            74834.0  4270.52358       5.863458          -159.666667\n",
      "...                       ...         ...            ...                  ...\n",
      "2024-09-18            22980.0  1440.55301       6.594417           124.375000\n",
      "2024-09-19            25537.0  2084.43270       7.115625           141.958333\n",
      "2024-09-20            25451.0  1606.36546       9.101792           130.333333\n",
      "2024-09-21            23151.0  1107.55208       2.683917            90.291667\n",
      "2024-09-22             2126.0   202.60780      12.233750            44.458333\n",
      "\n",
      "[1361 rows x 4 columns]\n",
      "\n",
      "Weekly Summary:\n",
      "            Weekly_Consumption  Weekly_Bill  Average_Price  \\\n",
      "Date                                                         \n",
      "2021-01-03            140234.0   4914.40276       3.508792   \n",
      "2021-01-10            493781.0  31552.58343       6.615589   \n",
      "2021-01-17            541564.0  39109.44333       7.240702   \n",
      "2021-01-24            483176.0  27700.10033       5.856375   \n",
      "2021-01-31            480021.0  32491.76930       6.912179   \n",
      "...                        ...          ...            ...   \n",
      "2024-08-25            183244.0   1503.79670       0.754625   \n",
      "2024-09-01            114578.0    581.71822       0.826893   \n",
      "2024-09-08            176551.0   6593.35007       5.606542   \n",
      "2024-09-15            141662.0   9285.59173       9.133482   \n",
      "2024-09-22            144462.0  13312.35000      10.767696   \n",
      "\n",
      "            Average_Temperature  \n",
      "Date                             \n",
      "2021-01-03           -58.986111  \n",
      "2021-01-10          -122.238095  \n",
      "2021-01-17          -142.363095  \n",
      "2021-01-24           -71.541667  \n",
      "2021-01-31           -69.833333  \n",
      "...                         ...  \n",
      "2024-08-25           154.720238  \n",
      "2024-09-01           150.851190  \n",
      "2024-09-08           159.523810  \n",
      "2024-09-15           143.886905  \n",
      "2024-09-22           105.190476  \n",
      "\n",
      "[195 rows x 4 columns]\n",
      "\n",
      "Monthly Summary:\n",
      "            Monthly_Consumption  Monthly_Bill  Average_Price  \\\n",
      "Date                                                           \n",
      "2021-01-31            2138776.0  135768.29915       6.351622   \n",
      "2021-02-28            1999589.0  143206.66019       7.084027   \n",
      "2021-03-31            1554240.0   74580.18579       4.752085   \n",
      "2021-04-30            1060946.0   45990.10919       4.558654   \n",
      "2021-05-31             960209.0   52172.74749       5.696895   \n",
      "2021-06-30             487973.0   32649.90997       6.963349   \n",
      "2021-07-31             662879.0   58342.92018       9.765914   \n",
      "2021-08-31             686614.0   54486.02972       8.456485   \n",
      "2021-09-30            1020821.0  106707.72198      11.069868   \n",
      "2021-10-31            1249997.0   94584.99683       8.043621   \n",
      "2021-11-30            1660833.0  197414.37012      10.651190   \n",
      "2021-12-31            1664150.0  418618.80736      23.979406   \n",
      "2022-01-31            1429884.0  186708.14456      13.231460   \n",
      "2022-02-28            1359682.0  130891.24580      10.049278   \n",
      "2022-03-31            1236372.0  125914.77798      10.717040   \n",
      "2022-04-30             967393.0   85669.22279       9.840287   \n",
      "2022-05-31             837750.0  118690.33873      16.450198   \n",
      "2022-06-30             549607.0   83740.83675      17.372717   \n",
      "2022-07-31             275609.0   51332.59097      22.832741   \n",
      "2022-08-31             529950.0  139254.59657      32.425331   \n",
      "2022-09-30             738840.0  174993.48065      26.657200   \n",
      "2022-10-31             904701.0  117913.28938      14.058847   \n",
      "2022-11-30            1218639.0  296990.77948      24.217750   \n",
      "2022-12-31            1523039.0  389502.79459      27.058077   \n",
      "2023-01-31            1469418.0  122690.32190       8.663565   \n",
      "2023-02-28            1247309.0  104759.17383       8.814318   \n",
      "2023-03-31            1555686.0  122149.71490       8.154273   \n",
      "2023-04-30            1046005.0   66813.43800       6.660943   \n",
      "2023-05-31             811693.0   30011.75094       3.306161   \n",
      "2023-06-30             544971.0   23053.74706       5.382899   \n",
      "2023-07-31             360796.0   11774.68714       4.091331   \n",
      "2023-08-31             667572.0   48236.53663       8.243069   \n",
      "2023-09-30             732044.0   22395.92345       4.072485   \n",
      "2023-10-31            1287668.0   51240.38133       4.675872   \n",
      "2023-11-30            1522042.0  122976.91501       8.806940   \n",
      "2023-12-31            1922527.0  184360.09907       9.453750   \n",
      "2024-01-31            2133366.0  280867.22127      13.171495   \n",
      "2024-02-29            1540912.0  104306.73242       6.397569   \n",
      "2024-03-31            1340239.0   93588.57003       7.361230   \n",
      "2024-04-30            1285945.0   76324.29967       6.068687   \n",
      "2024-05-31             754928.0   28004.59132       4.362091   \n",
      "2024-06-30             389965.0   16243.21537       4.478865   \n",
      "2024-07-31             504713.0    8678.97640       2.085347   \n",
      "2024-08-31             642981.0    8542.77831       1.567181   \n",
      "2024-09-30             480022.0   29403.59315       8.164771   \n",
      "\n",
      "            Average_Temperature  \n",
      "Date                             \n",
      "2021-01-31           -97.380376  \n",
      "2021-02-28          -127.773810  \n",
      "2021-03-31           -36.693139  \n",
      "2021-04-30            20.358333  \n",
      "2021-05-31            77.348118  \n",
      "2021-06-30           161.823611  \n",
      "2021-07-31           185.669355  \n",
      "2021-08-31           135.006720  \n",
      "2021-09-30            73.906944  \n",
      "2021-10-31            49.645759  \n",
      "2021-11-30           -27.937500  \n",
      "2021-12-31           -93.448925  \n",
      "2022-01-31           -76.633065  \n",
      "2022-02-28           -70.627976  \n",
      "2022-03-31           -25.804465  \n",
      "2022-04-30             6.783333  \n",
      "2022-05-31            80.518817  \n",
      "2022-06-30           149.951389  \n",
      "2022-07-31           168.288978  \n",
      "2022-08-31           154.224462  \n",
      "2022-09-30            82.605556  \n",
      "2022-10-31            46.828704  \n",
      "2022-11-30           -16.187500  \n",
      "2022-12-31           -61.744624  \n",
      "2023-01-31           -38.444892  \n",
      "2023-02-28           -58.127976  \n",
      "2023-03-31           -70.541024  \n",
      "2023-04-30             9.319444  \n",
      "2023-05-31            89.208333  \n",
      "2023-06-30           148.384722  \n",
      "2023-07-31           156.723118  \n",
      "2023-08-31           159.904570  \n",
      "2023-09-30           121.004167  \n",
      "2023-10-31            -3.415323  \n",
      "2023-11-30           -48.887500  \n",
      "2023-12-31           -82.088710  \n",
      "2024-01-31          -137.045699  \n",
      "2024-02-29           -76.522989  \n",
      "2024-03-31           -21.287459  \n",
      "2024-04-30             0.440278  \n",
      "2024-05-31            99.928763  \n",
      "2024-06-30           156.698611  \n",
      "2024-07-31           173.840054  \n",
      "2024-08-31           159.666667  \n",
      "2024-09-30           137.018939  \n"
     ]
    }
   ],
   "source": [
    "# Group by Date and calculate daily consumption, bill, average price, and average temperature\n",
    "daily_summary = merged_df.groupby('Date').agg(\n",
    "    Daily_Consumption=('Energy (kWh)', 'sum'),\n",
    "    Daily_Bill=('Hourly Bill', 'sum'),\n",
    "    Average_Price=('Price (cent/kWh)', 'mean'),\n",
    "    Average_Temperature=('Temperature', 'mean')\n",
    ").reset_index()\n",
    "\n",
    "# For weekly and monthly summaries, we can set the Date as index\n",
    "daily_summary.set_index('Date', inplace=True)\n",
    "\n",
    "# Weekly summary\n",
    "weekly_summary = daily_summary.resample('W').agg(\n",
    "    Weekly_Consumption=('Daily_Consumption', 'sum'),\n",
    "    Weekly_Bill=('Daily_Bill', 'sum'),\n",
    "    Average_Price=('Average_Price', 'mean'),\n",
    "    Average_Temperature=('Average_Temperature', 'mean')\n",
    ")\n",
    "\n",
    "# Monthly summary\n",
    "monthly_summary = daily_summary.resample('M').agg(\n",
    "    Monthly_Consumption=('Daily_Consumption', 'sum'),\n",
    "    Monthly_Bill=('Daily_Bill', 'sum'),\n",
    "    Average_Price=('Average_Price', 'mean'),\n",
    "    Average_Temperature=('Average_Temperature', 'mean')\n",
    ")\n",
    "\n",
    "# Display summaries\n",
    "print(\"\\nDaily Summary:\")\n",
    "print(daily_summary)\n",
    "\n",
    "print(\"\\nWeekly Summary:\")\n",
    "print(weekly_summary)\n",
    "\n",
    "print(\"\\nMonthly Summary:\")\n",
    "print(monthly_summary)\n"
   ]
  },
  {
   "cell_type": "code",
   "execution_count": 284,
   "id": "cfefb4a1-9c1e-485e-8d02-fd6b3f28a027",
   "metadata": {},
   "outputs": [
    {
     "data": {
      "text/html": [
       "<div>\n",
       "<style scoped>\n",
       "    .dataframe tbody tr th:only-of-type {\n",
       "        vertical-align: middle;\n",
       "    }\n",
       "\n",
       "    .dataframe tbody tr th {\n",
       "        vertical-align: top;\n",
       "    }\n",
       "\n",
       "    .dataframe thead th {\n",
       "        text-align: right;\n",
       "    }\n",
       "</style>\n",
       "<table border=\"1\" class=\"dataframe\">\n",
       "  <thead>\n",
       "    <tr style=\"text-align: right;\">\n",
       "      <th></th>\n",
       "      <th>Time</th>\n",
       "      <th>Energy (kWh)</th>\n",
       "      <th>Energy night(kWh)</th>\n",
       "      <th>Energy day (kWh)</th>\n",
       "      <th>Temperature</th>\n",
       "      <th>Date</th>\n",
       "      <th>Price (cent/kWh)</th>\n",
       "      <th>Hourly Bill</th>\n",
       "    </tr>\n",
       "  </thead>\n",
       "  <tbody>\n",
       "    <tr>\n",
       "      <th>0</th>\n",
       "      <td>2021-01-01 00:00:00</td>\n",
       "      <td>1988.0</td>\n",
       "      <td>1988.0</td>\n",
       "      <td>NaN</td>\n",
       "      <td>-9.0</td>\n",
       "      <td>2021-01-01</td>\n",
       "      <td>3.094</td>\n",
       "      <td>61.50872</td>\n",
       "    </tr>\n",
       "    <tr>\n",
       "      <th>1</th>\n",
       "      <td>2021-01-01 01:00:00</td>\n",
       "      <td>1462.0</td>\n",
       "      <td>1462.0</td>\n",
       "      <td>NaN</td>\n",
       "      <td>-13.0</td>\n",
       "      <td>2021-01-01</td>\n",
       "      <td>3.019</td>\n",
       "      <td>44.13778</td>\n",
       "    </tr>\n",
       "    <tr>\n",
       "      <th>2</th>\n",
       "      <td>2021-01-01 02:00:00</td>\n",
       "      <td>1101.0</td>\n",
       "      <td>1101.0</td>\n",
       "      <td>NaN</td>\n",
       "      <td>-14.0</td>\n",
       "      <td>2021-01-01</td>\n",
       "      <td>2.974</td>\n",
       "      <td>32.74374</td>\n",
       "    </tr>\n",
       "    <tr>\n",
       "      <th>3</th>\n",
       "      <td>2021-01-01 03:00:00</td>\n",
       "      <td>1031.0</td>\n",
       "      <td>1031.0</td>\n",
       "      <td>NaN</td>\n",
       "      <td>-19.0</td>\n",
       "      <td>2021-01-01</td>\n",
       "      <td>2.941</td>\n",
       "      <td>30.32171</td>\n",
       "    </tr>\n",
       "    <tr>\n",
       "      <th>4</th>\n",
       "      <td>2021-01-01 04:00:00</td>\n",
       "      <td>1044.0</td>\n",
       "      <td>1044.0</td>\n",
       "      <td>NaN</td>\n",
       "      <td>-19.0</td>\n",
       "      <td>2021-01-01</td>\n",
       "      <td>2.943</td>\n",
       "      <td>30.72492</td>\n",
       "    </tr>\n",
       "    <tr>\n",
       "      <th>...</th>\n",
       "      <td>...</td>\n",
       "      <td>...</td>\n",
       "      <td>...</td>\n",
       "      <td>...</td>\n",
       "      <td>...</td>\n",
       "      <td>...</td>\n",
       "      <td>...</td>\n",
       "      <td>...</td>\n",
       "    </tr>\n",
       "    <tr>\n",
       "      <th>32664</th>\n",
       "      <td>2024-09-22 19:00:00</td>\n",
       "      <td>0.0</td>\n",
       "      <td>NaN</td>\n",
       "      <td>0.0</td>\n",
       "      <td>63.0</td>\n",
       "      <td>2024-09-22</td>\n",
       "      <td>32.162</td>\n",
       "      <td>0.00000</td>\n",
       "    </tr>\n",
       "    <tr>\n",
       "      <th>32665</th>\n",
       "      <td>2024-09-22 20:00:00</td>\n",
       "      <td>0.0</td>\n",
       "      <td>NaN</td>\n",
       "      <td>0.0</td>\n",
       "      <td>41.0</td>\n",
       "      <td>2024-09-22</td>\n",
       "      <td>18.769</td>\n",
       "      <td>0.00000</td>\n",
       "    </tr>\n",
       "    <tr>\n",
       "      <th>32666</th>\n",
       "      <td>2024-09-22 21:00:00</td>\n",
       "      <td>0.0</td>\n",
       "      <td>NaN</td>\n",
       "      <td>0.0</td>\n",
       "      <td>29.0</td>\n",
       "      <td>2024-09-22</td>\n",
       "      <td>14.297</td>\n",
       "      <td>0.00000</td>\n",
       "    </tr>\n",
       "    <tr>\n",
       "      <th>32667</th>\n",
       "      <td>2024-09-22 22:00:00</td>\n",
       "      <td>0.0</td>\n",
       "      <td>0.0</td>\n",
       "      <td>NaN</td>\n",
       "      <td>23.0</td>\n",
       "      <td>2024-09-22</td>\n",
       "      <td>12.692</td>\n",
       "      <td>0.00000</td>\n",
       "    </tr>\n",
       "    <tr>\n",
       "      <th>32668</th>\n",
       "      <td>2024-09-22 23:00:00</td>\n",
       "      <td>0.0</td>\n",
       "      <td>0.0</td>\n",
       "      <td>NaN</td>\n",
       "      <td>17.0</td>\n",
       "      <td>2024-09-22</td>\n",
       "      <td>9.316</td>\n",
       "      <td>0.00000</td>\n",
       "    </tr>\n",
       "  </tbody>\n",
       "</table>\n",
       "<p>32669 rows × 8 columns</p>\n",
       "</div>"
      ],
      "text/plain": [
       "                     Time  Energy (kWh)  Energy night(kWh)  Energy day (kWh)  \\\n",
       "0     2021-01-01 00:00:00        1988.0             1988.0               NaN   \n",
       "1     2021-01-01 01:00:00        1462.0             1462.0               NaN   \n",
       "2     2021-01-01 02:00:00        1101.0             1101.0               NaN   \n",
       "3     2021-01-01 03:00:00        1031.0             1031.0               NaN   \n",
       "4     2021-01-01 04:00:00        1044.0             1044.0               NaN   \n",
       "...                   ...           ...                ...               ...   \n",
       "32664 2024-09-22 19:00:00           0.0                NaN               0.0   \n",
       "32665 2024-09-22 20:00:00           0.0                NaN               0.0   \n",
       "32666 2024-09-22 21:00:00           0.0                NaN               0.0   \n",
       "32667 2024-09-22 22:00:00           0.0                0.0               NaN   \n",
       "32668 2024-09-22 23:00:00           0.0                0.0               NaN   \n",
       "\n",
       "       Temperature       Date  Price (cent/kWh)  Hourly Bill  \n",
       "0             -9.0 2021-01-01             3.094     61.50872  \n",
       "1            -13.0 2021-01-01             3.019     44.13778  \n",
       "2            -14.0 2021-01-01             2.974     32.74374  \n",
       "3            -19.0 2021-01-01             2.941     30.32171  \n",
       "4            -19.0 2021-01-01             2.943     30.72492  \n",
       "...            ...        ...               ...          ...  \n",
       "32664         63.0 2024-09-22            32.162      0.00000  \n",
       "32665         41.0 2024-09-22            18.769      0.00000  \n",
       "32666         29.0 2024-09-22            14.297      0.00000  \n",
       "32667         23.0 2024-09-22            12.692      0.00000  \n",
       "32668         17.0 2024-09-22             9.316      0.00000  \n",
       "\n",
       "[32669 rows x 8 columns]"
      ]
     },
     "execution_count": 284,
     "metadata": {},
     "output_type": "execute_result"
    }
   ],
   "source": [
    "merged_df"
   ]
  },
  {
   "cell_type": "code",
   "execution_count": 295,
   "id": "f058a094-3ccd-455b-9471-733217454658",
   "metadata": {},
   "outputs": [
    {
     "name": "stdout",
     "output_type": "stream",
     "text": [
      "Start time (YYYY-MM-DD):\n",
      "\n"
     ]
    },
    {
     "name": "stdin",
     "output_type": "stream",
     "text": [
      " 2022-01-01\n"
     ]
    },
    {
     "name": "stdout",
     "output_type": "stream",
     "text": [
      "\n",
      "\n",
      "\n",
      "End time (YYYY-MM-DD):\n",
      "\n"
     ]
    },
    {
     "name": "stdin",
     "output_type": "stream",
     "text": [
      " 2024-06-01\n"
     ]
    }
   ],
   "source": [
    "# Convert 'Date' column to datetime type\n",
    "merged_df['Date'] = pd.to_datetime(merged_df['Date'])\n",
    "\n",
    "# Function to input date from the user (with validation)\n",
    "def input_date(prompt):\n",
    "    while True:\n",
    "        try:\n",
    "            print(prompt)  # Show the prompt\n",
    "            print()  # Add a blank line after the prompt\n",
    "            date_input = input()  # Input on the next line\n",
    "            # Attempt to parse the input into a datetime object\n",
    "            parsed_date = datetime.strptime(date_input, \"%Y-%m-%d\").date()\n",
    "            return parsed_date\n",
    "        except ValueError:\n",
    "            print(\"Invalid date format. Please use YYYY-MM-DD.\")\n",
    "\n",
    "# Get start and end dates from the user using input_date function\n",
    "start_date = input_date(\"Start time (YYYY-MM-DD):\")\n",
    "print(\"\\n\\n\")  # Add two blank lines after start date input\n",
    "\n",
    "end_date = input_date(\"End time (YYYY-MM-DD):\")\n",
    "\n",
    "# Convert dates to strings for comparison\n",
    "start_date_str = start_date.strftime(\"%Y-%m-%d\")\n",
    "end_date_str = end_date.strftime(\"%Y-%m-%d\")\n",
    "\n",
    "\n",
    "# Filter the DataFrame based on the selected dates\n",
    "filtered_df = merged_df[(merged_df['Date'] >= start_date_str) & (merged_df['Date'] <= end_date_str)]\n",
    "\n",
    "# Calculate total consumption, total bill, average hourly price, and average paid price\n",
    "total_consumption = filtered_df['Energy (kWh)'].sum()\n",
    "total_bill = filtered_df['Hourly Bill'].sum()\n",
    "average_hourly_price = filtered_df['Price (cent/kWh)'].mean()\n",
    "average_paid_price = filtered_df['Hourly Bill'].sum() / filtered_df['Energy (kWh)'].sum() * 100  # Average paid price in cents\n"
   ]
  },
  {
   "cell_type": "code",
   "execution_count": 296,
   "id": "86d4f4a7-05a1-46eb-9d6c-926b7775a358",
   "metadata": {},
   "outputs": [
    {
     "name": "stdout",
     "output_type": "stream",
     "text": [
      "\n",
      "Showing range: 2022-01-01 - 2024-06-01\n",
      "\n",
      "Total consumption over the period: 31820846.0 kWh\n",
      "\n",
      "Total bill over the period: 3395855.4 €\n",
      "\n",
      "Average hourly price: 11.83 cents\n",
      "\n",
      "Average paid price: 10.67 cents\n",
      "\n"
     ]
    }
   ],
   "source": [
    "# Display the results\n",
    "print(f\"\\nShowing range: {start_date_str} - {end_date_str}\\n\")\n",
    "print(f\"Total consumption over the period: {total_consumption:.1f} kWh\\n\")\n",
    "print(f\"Total bill over the period: {total_bill:.1f} €\\n\")\n",
    "print(f\"Average hourly price: {average_hourly_price:.2f} cents\\n\")\n",
    "print(f\"Average paid price: {average_paid_price:.2f} cents\\n\")"
   ]
  },
  {
   "cell_type": "code",
   "execution_count": 292,
   "id": "86b70934-8487-45ce-82a3-8c021fb39b62",
   "metadata": {},
   "outputs": [
    {
     "name": "stdin",
     "output_type": "stream",
     "text": [
      "Select grouping interval (daily, weekly, monthly):  weekly\n"
     ]
    },
    {
     "data": {
      "application/vnd.plotly.v1+json": {
       "config": {
        "plotlyServerURL": "https://plot.ly"
       },
       "data": [
        {
         "mode": "lines+markers",
         "name": "Consumption (kWh)",
         "type": "scatter",
         "x": [
          "2022-01-02T00:00:00",
          "2022-01-09T00:00:00",
          "2022-01-16T00:00:00",
          "2022-01-23T00:00:00",
          "2022-01-30T00:00:00",
          "2022-02-06T00:00:00",
          "2022-02-13T00:00:00",
          "2022-02-20T00:00:00",
          "2022-02-27T00:00:00",
          "2022-03-06T00:00:00",
          "2022-03-13T00:00:00",
          "2022-03-20T00:00:00",
          "2022-03-27T00:00:00",
          "2022-04-03T00:00:00",
          "2022-04-10T00:00:00",
          "2022-04-17T00:00:00",
          "2022-04-24T00:00:00",
          "2022-05-01T00:00:00",
          "2022-05-08T00:00:00",
          "2022-05-15T00:00:00",
          "2022-05-22T00:00:00",
          "2022-05-29T00:00:00",
          "2022-06-05T00:00:00",
          "2022-06-12T00:00:00",
          "2022-06-19T00:00:00",
          "2022-06-26T00:00:00",
          "2022-07-03T00:00:00",
          "2022-07-10T00:00:00",
          "2022-07-17T00:00:00",
          "2022-07-24T00:00:00",
          "2022-07-31T00:00:00",
          "2022-08-07T00:00:00",
          "2022-08-14T00:00:00",
          "2022-08-21T00:00:00",
          "2022-08-28T00:00:00",
          "2022-09-04T00:00:00",
          "2022-09-11T00:00:00",
          "2022-09-18T00:00:00",
          "2022-09-25T00:00:00",
          "2022-10-02T00:00:00",
          "2022-10-09T00:00:00",
          "2022-10-16T00:00:00",
          "2022-10-23T00:00:00",
          "2022-10-30T00:00:00",
          "2022-11-06T00:00:00",
          "2022-11-13T00:00:00",
          "2022-11-20T00:00:00",
          "2022-11-27T00:00:00",
          "2022-12-04T00:00:00",
          "2022-12-11T00:00:00",
          "2022-12-18T00:00:00",
          "2022-12-25T00:00:00",
          "2023-01-01T00:00:00",
          "2023-01-08T00:00:00",
          "2023-01-15T00:00:00",
          "2023-01-22T00:00:00",
          "2023-01-29T00:00:00",
          "2023-02-05T00:00:00",
          "2023-02-12T00:00:00",
          "2023-02-19T00:00:00",
          "2023-02-26T00:00:00",
          "2023-03-05T00:00:00",
          "2023-03-12T00:00:00",
          "2023-03-19T00:00:00",
          "2023-03-26T00:00:00",
          "2023-04-02T00:00:00",
          "2023-04-09T00:00:00",
          "2023-04-16T00:00:00",
          "2023-04-23T00:00:00",
          "2023-04-30T00:00:00",
          "2023-05-07T00:00:00",
          "2023-05-14T00:00:00",
          "2023-05-21T00:00:00",
          "2023-05-28T00:00:00",
          "2023-06-04T00:00:00",
          "2023-06-11T00:00:00",
          "2023-06-18T00:00:00",
          "2023-06-25T00:00:00",
          "2023-07-02T00:00:00",
          "2023-07-09T00:00:00",
          "2023-07-16T00:00:00",
          "2023-07-23T00:00:00",
          "2023-07-30T00:00:00",
          "2023-08-06T00:00:00",
          "2023-08-13T00:00:00",
          "2023-08-20T00:00:00",
          "2023-08-27T00:00:00",
          "2023-09-03T00:00:00",
          "2023-09-10T00:00:00",
          "2023-09-17T00:00:00",
          "2023-09-24T00:00:00",
          "2023-10-01T00:00:00",
          "2023-10-08T00:00:00",
          "2023-10-15T00:00:00",
          "2023-10-22T00:00:00",
          "2023-10-29T00:00:00",
          "2023-11-05T00:00:00",
          "2023-11-12T00:00:00",
          "2023-11-19T00:00:00",
          "2023-11-26T00:00:00",
          "2023-12-03T00:00:00",
          "2023-12-10T00:00:00",
          "2023-12-17T00:00:00",
          "2023-12-24T00:00:00",
          "2023-12-31T00:00:00",
          "2024-01-07T00:00:00",
          "2024-01-14T00:00:00",
          "2024-01-21T00:00:00",
          "2024-01-28T00:00:00",
          "2024-02-04T00:00:00",
          "2024-02-11T00:00:00",
          "2024-02-18T00:00:00",
          "2024-02-25T00:00:00",
          "2024-03-03T00:00:00",
          "2024-03-10T00:00:00",
          "2024-03-17T00:00:00",
          "2024-03-24T00:00:00",
          "2024-03-31T00:00:00",
          "2024-04-07T00:00:00",
          "2024-04-14T00:00:00",
          "2024-04-21T00:00:00",
          "2024-04-28T00:00:00",
          "2024-05-05T00:00:00",
          "2024-05-12T00:00:00",
          "2024-05-19T00:00:00",
          "2024-05-26T00:00:00",
          "2024-06-02T00:00:00"
         ],
         "y": [
          108030,
          340048,
          315304,
          293646,
          308716,
          404482,
          297085,
          337069,
          352009,
          293060,
          243031,
          289754,
          283843,
          271733,
          284072,
          201310,
          177899,
          220098,
          251247,
          192007,
          175782,
          142525,
          168764,
          129802,
          122044,
          91221,
          103464,
          15798,
          50239,
          120889,
          71326,
          102888,
          114240,
          140917,
          122670,
          159950,
          168541,
          155190,
          179719,
          178719,
          187926,
          198062,
          196420,
          235495,
          247293,
          226076,
          313795,
          335633,
          317546,
          258390,
          373479,
          414547,
          321367,
          394319,
          320097,
          289421,
          346674,
          320084,
          299258,
          254813,
          372063,
          286032,
          371694,
          331801,
          349716,
          389405,
          252568,
          233301,
          242544,
          230934,
          252683,
          174855,
          161046,
          150066,
          195447,
          120655,
          104461,
          133649,
          67915,
          13702,
          76357,
          129057,
          115316,
          132095,
          148631,
          156074,
          167735,
          157294,
          179951,
          153948,
          181039,
          172209,
          246015,
          248730,
          307432,
          353515,
          330247,
          309475,
          355593,
          391466,
          418927,
          492021,
          442163,
          412593,
          396951,
          568915,
          442147,
          551137,
          435013,
          322833,
          455988,
          426120,
          306761,
          287873,
          256451,
          311071,
          349440,
          300768,
          386559,
          250651,
          307522,
          261795,
          211161,
          209856,
          153468,
          161970,
          124150
         ]
        }
       ],
       "layout": {
        "height": 600,
        "template": {
         "data": {
          "candlestick": [
           {
            "decreasing": {
             "line": {
              "color": "#000033"
             }
            },
            "increasing": {
             "line": {
              "color": "#000032"
             }
            },
            "type": "candlestick"
           }
          ],
          "contour": [
           {
            "colorscale": [
             [
              0,
              "#000011"
             ],
             [
              0.1111111111111111,
              "#000012"
             ],
             [
              0.2222222222222222,
              "#000013"
             ],
             [
              0.3333333333333333,
              "#000014"
             ],
             [
              0.4444444444444444,
              "#000015"
             ],
             [
              0.5555555555555556,
              "#000016"
             ],
             [
              0.6666666666666666,
              "#000017"
             ],
             [
              0.7777777777777778,
              "#000018"
             ],
             [
              0.8888888888888888,
              "#000019"
             ],
             [
              1,
              "#000020"
             ]
            ],
            "type": "contour"
           }
          ],
          "contourcarpet": [
           {
            "colorscale": [
             [
              0,
              "#000011"
             ],
             [
              0.1111111111111111,
              "#000012"
             ],
             [
              0.2222222222222222,
              "#000013"
             ],
             [
              0.3333333333333333,
              "#000014"
             ],
             [
              0.4444444444444444,
              "#000015"
             ],
             [
              0.5555555555555556,
              "#000016"
             ],
             [
              0.6666666666666666,
              "#000017"
             ],
             [
              0.7777777777777778,
              "#000018"
             ],
             [
              0.8888888888888888,
              "#000019"
             ],
             [
              1,
              "#000020"
             ]
            ],
            "type": "contourcarpet"
           }
          ],
          "heatmap": [
           {
            "colorscale": [
             [
              0,
              "#000011"
             ],
             [
              0.1111111111111111,
              "#000012"
             ],
             [
              0.2222222222222222,
              "#000013"
             ],
             [
              0.3333333333333333,
              "#000014"
             ],
             [
              0.4444444444444444,
              "#000015"
             ],
             [
              0.5555555555555556,
              "#000016"
             ],
             [
              0.6666666666666666,
              "#000017"
             ],
             [
              0.7777777777777778,
              "#000018"
             ],
             [
              0.8888888888888888,
              "#000019"
             ],
             [
              1,
              "#000020"
             ]
            ],
            "type": "heatmap"
           }
          ],
          "histogram2d": [
           {
            "colorscale": [
             [
              0,
              "#000011"
             ],
             [
              0.1111111111111111,
              "#000012"
             ],
             [
              0.2222222222222222,
              "#000013"
             ],
             [
              0.3333333333333333,
              "#000014"
             ],
             [
              0.4444444444444444,
              "#000015"
             ],
             [
              0.5555555555555556,
              "#000016"
             ],
             [
              0.6666666666666666,
              "#000017"
             ],
             [
              0.7777777777777778,
              "#000018"
             ],
             [
              0.8888888888888888,
              "#000019"
             ],
             [
              1,
              "#000020"
             ]
            ],
            "type": "histogram2d"
           }
          ],
          "icicle": [
           {
            "textfont": {
             "color": "white"
            },
            "type": "icicle"
           }
          ],
          "sankey": [
           {
            "textfont": {
             "color": "#000036"
            },
            "type": "sankey"
           }
          ],
          "scatter": [
           {
            "marker": {
             "line": {
              "width": 0
             }
            },
            "type": "scatter"
           }
          ],
          "table": [
           {
            "cells": {
             "fill": {
              "color": "#000038"
             },
             "font": {
              "color": "#000037"
             },
             "line": {
              "color": "#000039"
             }
            },
            "header": {
             "fill": {
              "color": "#000040"
             },
             "font": {
              "color": "#000036"
             },
             "line": {
              "color": "#000039"
             }
            },
            "type": "table"
           }
          ],
          "waterfall": [
           {
            "connector": {
             "line": {
              "color": "#000036",
              "width": 2
             }
            },
            "decreasing": {
             "marker": {
              "color": "#000033"
             }
            },
            "increasing": {
             "marker": {
              "color": "#000032"
             }
            },
            "totals": {
             "marker": {
              "color": "#000034"
             }
            },
            "type": "waterfall"
           }
          ]
         },
         "layout": {
          "coloraxis": {
           "colorscale": [
            [
             0,
             "#000011"
            ],
            [
             0.1111111111111111,
             "#000012"
            ],
            [
             0.2222222222222222,
             "#000013"
            ],
            [
             0.3333333333333333,
             "#000014"
            ],
            [
             0.4444444444444444,
             "#000015"
            ],
            [
             0.5555555555555556,
             "#000016"
            ],
            [
             0.6666666666666666,
             "#000017"
            ],
            [
             0.7777777777777778,
             "#000018"
            ],
            [
             0.8888888888888888,
             "#000019"
            ],
            [
             1,
             "#000020"
            ]
           ]
          },
          "colorscale": {
           "diverging": [
            [
             0,
             "#000021"
            ],
            [
             0.1,
             "#000022"
            ],
            [
             0.2,
             "#000023"
            ],
            [
             0.3,
             "#000024"
            ],
            [
             0.4,
             "#000025"
            ],
            [
             0.5,
             "#000026"
            ],
            [
             0.6,
             "#000027"
            ],
            [
             0.7,
             "#000028"
            ],
            [
             0.8,
             "#000029"
            ],
            [
             0.9,
             "#000030"
            ],
            [
             1,
             "#000031"
            ]
           ],
           "sequential": [
            [
             0,
             "#000011"
            ],
            [
             0.1111111111111111,
             "#000012"
            ],
            [
             0.2222222222222222,
             "#000013"
            ],
            [
             0.3333333333333333,
             "#000014"
            ],
            [
             0.4444444444444444,
             "#000015"
            ],
            [
             0.5555555555555556,
             "#000016"
            ],
            [
             0.6666666666666666,
             "#000017"
            ],
            [
             0.7777777777777778,
             "#000018"
            ],
            [
             0.8888888888888888,
             "#000019"
            ],
            [
             1,
             "#000020"
            ]
           ],
           "sequentialminus": [
            [
             0,
             "#000011"
            ],
            [
             0.1111111111111111,
             "#000012"
            ],
            [
             0.2222222222222222,
             "#000013"
            ],
            [
             0.3333333333333333,
             "#000014"
            ],
            [
             0.4444444444444444,
             "#000015"
            ],
            [
             0.5555555555555556,
             "#000016"
            ],
            [
             0.6666666666666666,
             "#000017"
            ],
            [
             0.7777777777777778,
             "#000018"
            ],
            [
             0.8888888888888888,
             "#000019"
            ],
            [
             1,
             "#000020"
            ]
           ]
          },
          "colorway": [
           "#000001",
           "#000002",
           "#000003",
           "#000004",
           "#000005",
           "#000006",
           "#000007",
           "#000008",
           "#000009",
           "#000010"
          ]
         }
        },
        "title": {
         "text": "Total Consumption Over Time"
        },
        "width": 1200,
        "xaxis": {
         "autorange": true,
         "range": [
          "2021-11-10 01:00:29.0792",
          "2024-07-24 22:59:30.9208"
         ],
         "tickangle": -45,
         "title": {
          "text": "Date"
         },
         "type": "date"
        },
        "yaxis": {
         "autorange": true,
         "range": [
          -23387.12753036437,
          606004.1275303643
         ],
         "title": {
          "text": "Consumption (kWh)"
         },
         "type": "linear"
        }
       }
      },
      "image/png": "[encoded data removed]",
      "text/html": [
       "<div>                            <div id=\"a6a3e8e2-6e26-4aae-8b2c-12a7b5ae50a8\" class=\"plotly-graph-div\" style=\"height:600px; width:1200px;\"></div>            <script type=\"text/javascript\">                require([\"plotly\"], function(Plotly) {                    window.PLOTLYENV=window.PLOTLYENV || {};                                    if (document.getElementById(\"a6a3e8e2-6e26-4aae-8b2c-12a7b5ae50a8\")) {                    Plotly.newPlot(                        \"a6a3e8e2-6e26-4aae-8b2c-12a7b5ae50a8\",                        [{\"mode\":\"lines+markers\",\"name\":\"Consumption (kWh)\",\"x\":[\"2022-01-02T00:00:00\",\"2022-01-09T00:00:00\",\"2022-01-16T00:00:00\",\"2022-01-23T00:00:00\",\"2022-01-30T00:00:00\",\"2022-02-06T00:00:00\",\"2022-02-13T00:00:00\",\"2022-02-20T00:00:00\",\"2022-02-27T00:00:00\",\"2022-03-06T00:00:00\",\"2022-03-13T00:00:00\",\"2022-03-20T00:00:00\",\"2022-03-27T00:00:00\",\"2022-04-03T00:00:00\",\"2022-04-10T00:00:00\",\"2022-04-17T00:00:00\",\"2022-04-24T00:00:00\",\"2022-05-01T00:00:00\",\"2022-05-08T00:00:00\",\"2022-05-15T00:00:00\",\"2022-05-22T00:00:00\",\"2022-05-29T00:00:00\",\"2022-06-05T00:00:00\",\"2022-06-12T00:00:00\",\"2022-06-19T00:00:00\",\"2022-06-26T00:00:00\",\"2022-07-03T00:00:00\",\"2022-07-10T00:00:00\",\"2022-07-17T00:00:00\",\"2022-07-24T00:00:00\",\"2022-07-31T00:00:00\",\"2022-08-07T00:00:00\",\"2022-08-14T00:00:00\",\"2022-08-21T00:00:00\",\"2022-08-28T00:00:00\",\"2022-09-04T00:00:00\",\"2022-09-11T00:00:00\",\"2022-09-18T00:00:00\",\"2022-09-25T00:00:00\",\"2022-10-02T00:00:00\",\"2022-10-09T00:00:00\",\"2022-10-16T00:00:00\",\"2022-10-23T00:00:00\",\"2022-10-30T00:00:00\",\"2022-11-06T00:00:00\",\"2022-11-13T00:00:00\",\"2022-11-20T00:00:00\",\"2022-11-27T00:00:00\",\"2022-12-04T00:00:00\",\"2022-12-11T00:00:00\",\"2022-12-18T00:00:00\",\"2022-12-25T00:00:00\",\"2023-01-01T00:00:00\",\"2023-01-08T00:00:00\",\"2023-01-15T00:00:00\",\"2023-01-22T00:00:00\",\"2023-01-29T00:00:00\",\"2023-02-05T00:00:00\",\"2023-02-12T00:00:00\",\"2023-02-19T00:00:00\",\"2023-02-26T00:00:00\",\"2023-03-05T00:00:00\",\"2023-03-12T00:00:00\",\"2023-03-19T00:00:00\",\"2023-03-26T00:00:00\",\"2023-04-02T00:00:00\",\"2023-04-09T00:00:00\",\"2023-04-16T00:00:00\",\"2023-04-23T00:00:00\",\"2023-04-30T00:00:00\",\"2023-05-07T00:00:00\",\"2023-05-14T00:00:00\",\"2023-05-21T00:00:00\",\"2023-05-28T00:00:00\",\"2023-06-04T00:00:00\",\"2023-06-11T00:00:00\",\"2023-06-18T00:00:00\",\"2023-06-25T00:00:00\",\"2023-07-02T00:00:00\",\"2023-07-09T00:00:00\",\"2023-07-16T00:00:00\",\"2023-07-23T00:00:00\",\"2023-07-30T00:00:00\",\"2023-08-06T00:00:00\",\"2023-08-13T00:00:00\",\"2023-08-20T00:00:00\",\"2023-08-27T00:00:00\",\"2023-09-03T00:00:00\",\"2023-09-10T00:00:00\",\"2023-09-17T00:00:00\",\"2023-09-24T00:00:00\",\"2023-10-01T00:00:00\",\"2023-10-08T00:00:00\",\"2023-10-15T00:00:00\",\"2023-10-22T00:00:00\",\"2023-10-29T00:00:00\",\"2023-11-05T00:00:00\",\"2023-11-12T00:00:00\",\"2023-11-19T00:00:00\",\"2023-11-26T00:00:00\",\"2023-12-03T00:00:00\",\"2023-12-10T00:00:00\",\"2023-12-17T00:00:00\",\"2023-12-24T00:00:00\",\"2023-12-31T00:00:00\",\"2024-01-07T00:00:00\",\"2024-01-14T00:00:00\",\"2024-01-21T00:00:00\",\"2024-01-28T00:00:00\",\"2024-02-04T00:00:00\",\"2024-02-11T00:00:00\",\"2024-02-18T00:00:00\",\"2024-02-25T00:00:00\",\"2024-03-03T00:00:00\",\"2024-03-10T00:00:00\",\"2024-03-17T00:00:00\",\"2024-03-24T00:00:00\",\"2024-03-31T00:00:00\",\"2024-04-07T00:00:00\",\"2024-04-14T00:00:00\",\"2024-04-21T00:00:00\",\"2024-04-28T00:00:00\",\"2024-05-05T00:00:00\",\"2024-05-12T00:00:00\",\"2024-05-19T00:00:00\",\"2024-05-26T00:00:00\",\"2024-06-02T00:00:00\"],\"y\":[108030.0,340048.0,315304.0,293646.0,308716.0,404482.0,297085.0,337069.0,352009.0,293060.0,243031.0,289754.0,283843.0,271733.0,284072.0,201310.0,177899.0,220098.0,251247.0,192007.0,175782.0,142525.0,168764.0,129802.0,122044.0,91221.0,103464.0,15798.0,50239.0,120889.0,71326.0,102888.0,114240.0,140917.0,122670.0,159950.0,168541.0,155190.0,179719.0,178719.0,187926.0,198062.0,196420.0,235495.0,247293.0,226076.0,313795.0,335633.0,317546.0,258390.0,373479.0,414547.0,321367.0,394319.0,320097.0,289421.0,346674.0,320084.0,299258.0,254813.0,372063.0,286032.0,371694.0,331801.0,349716.0,389405.0,252568.0,233301.0,242544.0,230934.0,252683.0,174855.0,161046.0,150066.0,195447.0,120655.0,104461.0,133649.0,67915.0,13702.0,76357.0,129057.0,115316.0,132095.0,148631.0,156074.0,167735.0,157294.0,179951.0,153948.0,181039.0,172209.0,246015.0,248730.0,307432.0,353515.0,330247.0,309475.0,355593.0,391466.0,418927.0,492021.0,442163.0,412593.0,396951.0,568915.0,442147.0,551137.0,435013.0,322833.0,455988.0,426120.0,306761.0,287873.0,256451.0,311071.0,349440.0,300768.0,386559.0,250651.0,307522.0,261795.0,211161.0,209856.0,153468.0,161970.0,124150.0],\"type\":\"scatter\"}],                        {\"template\":{\"data\":{\"candlestick\":[{\"decreasing\":{\"line\":{\"color\":\"#000033\"}},\"increasing\":{\"line\":{\"color\":\"#000032\"}},\"type\":\"candlestick\"}],\"contourcarpet\":[{\"colorscale\":[[0.0,\"#000011\"],[0.1111111111111111,\"#000012\"],[0.2222222222222222,\"#000013\"],[0.3333333333333333,\"#000014\"],[0.4444444444444444,\"#000015\"],[0.5555555555555556,\"#000016\"],[0.6666666666666666,\"#000017\"],[0.7777777777777778,\"#000018\"],[0.8888888888888888,\"#000019\"],[1.0,\"#000020\"]],\"type\":\"contourcarpet\"}],\"contour\":[{\"colorscale\":[[0.0,\"#000011\"],[0.1111111111111111,\"#000012\"],[0.2222222222222222,\"#000013\"],[0.3333333333333333,\"#000014\"],[0.4444444444444444,\"#000015\"],[0.5555555555555556,\"#000016\"],[0.6666666666666666,\"#000017\"],[0.7777777777777778,\"#000018\"],[0.8888888888888888,\"#000019\"],[1.0,\"#000020\"]],\"type\":\"contour\"}],\"heatmap\":[{\"colorscale\":[[0.0,\"#000011\"],[0.1111111111111111,\"#000012\"],[0.2222222222222222,\"#000013\"],[0.3333333333333333,\"#000014\"],[0.4444444444444444,\"#000015\"],[0.5555555555555556,\"#000016\"],[0.6666666666666666,\"#000017\"],[0.7777777777777778,\"#000018\"],[0.8888888888888888,\"#000019\"],[1.0,\"#000020\"]],\"type\":\"heatmap\"}],\"histogram2d\":[{\"colorscale\":[[0.0,\"#000011\"],[0.1111111111111111,\"#000012\"],[0.2222222222222222,\"#000013\"],[0.3333333333333333,\"#000014\"],[0.4444444444444444,\"#000015\"],[0.5555555555555556,\"#000016\"],[0.6666666666666666,\"#000017\"],[0.7777777777777778,\"#000018\"],[0.8888888888888888,\"#000019\"],[1.0,\"#000020\"]],\"type\":\"histogram2d\"}],\"icicle\":[{\"textfont\":{\"color\":\"white\"},\"type\":\"icicle\"}],\"sankey\":[{\"textfont\":{\"color\":\"#000036\"},\"type\":\"sankey\"}],\"scatter\":[{\"marker\":{\"line\":{\"width\":0}},\"type\":\"scatter\"}],\"table\":[{\"cells\":{\"fill\":{\"color\":\"#000038\"},\"font\":{\"color\":\"#000037\"},\"line\":{\"color\":\"#000039\"}},\"header\":{\"fill\":{\"color\":\"#000040\"},\"font\":{\"color\":\"#000036\"},\"line\":{\"color\":\"#000039\"}},\"type\":\"table\"}],\"waterfall\":[{\"connector\":{\"line\":{\"color\":\"#000036\",\"width\":2}},\"decreasing\":{\"marker\":{\"color\":\"#000033\"}},\"increasing\":{\"marker\":{\"color\":\"#000032\"}},\"totals\":{\"marker\":{\"color\":\"#000034\"}},\"type\":\"waterfall\"}]},\"layout\":{\"coloraxis\":{\"colorscale\":[[0.0,\"#000011\"],[0.1111111111111111,\"#000012\"],[0.2222222222222222,\"#000013\"],[0.3333333333333333,\"#000014\"],[0.4444444444444444,\"#000015\"],[0.5555555555555556,\"#000016\"],[0.6666666666666666,\"#000017\"],[0.7777777777777778,\"#000018\"],[0.8888888888888888,\"#000019\"],[1.0,\"#000020\"]]},\"colorscale\":{\"diverging\":[[0.0,\"#000021\"],[0.1,\"#000022\"],[0.2,\"#000023\"],[0.3,\"#000024\"],[0.4,\"#000025\"],[0.5,\"#000026\"],[0.6,\"#000027\"],[0.7,\"#000028\"],[0.8,\"#000029\"],[0.9,\"#000030\"],[1.0,\"#000031\"]],\"sequential\":[[0.0,\"#000011\"],[0.1111111111111111,\"#000012\"],[0.2222222222222222,\"#000013\"],[0.3333333333333333,\"#000014\"],[0.4444444444444444,\"#000015\"],[0.5555555555555556,\"#000016\"],[0.6666666666666666,\"#000017\"],[0.7777777777777778,\"#000018\"],[0.8888888888888888,\"#000019\"],[1.0,\"#000020\"]],\"sequentialminus\":[[0.0,\"#000011\"],[0.1111111111111111,\"#000012\"],[0.2222222222222222,\"#000013\"],[0.3333333333333333,\"#000014\"],[0.4444444444444444,\"#000015\"],[0.5555555555555556,\"#000016\"],[0.6666666666666666,\"#000017\"],[0.7777777777777778,\"#000018\"],[0.8888888888888888,\"#000019\"],[1.0,\"#000020\"]]},\"colorway\":[\"#000001\",\"#000002\",\"#000003\",\"#000004\",\"#000005\",\"#000006\",\"#000007\",\"#000008\",\"#000009\",\"#000010\"]}},\"xaxis\":{\"title\":{\"text\":\"Date\"},\"tickangle\":-45},\"title\":{\"text\":\"Total Consumption Over Time\"},\"yaxis\":{\"title\":{\"text\":\"Consumption (kWh)\"}},\"width\":1200,\"height\":600},                        {\"responsive\": true}                    ).then(function(){\n",
       "                            \n",
       "var gd = document.getElementById('a6a3e8e2-6e26-4aae-8b2c-12a7b5ae50a8');\n",
       "var x = new MutationObserver(function (mutations, observer) {{\n",
       "        var display = window.getComputedStyle(gd).display;\n",
       "        if (!display || display === 'none') {{\n",
       "            console.log([gd, 'removed!']);\n",
       "            Plotly.purge(gd);\n",
       "            observer.disconnect();\n",
       "        }}\n",
       "}});\n",
       "\n",
       "// Listen for the removal of the full notebook cells\n",
       "var notebookContainer = gd.closest('#notebook-container');\n",
       "if (notebookContainer) {{\n",
       "    x.observe(notebookContainer, {childList: true});\n",
       "}}\n",
       "\n",
       "// Listen for the clearing of the current output cell\n",
       "var outputEl = gd.closest('.output');\n",
       "if (outputEl) {{\n",
       "    x.observe(outputEl, {childList: true});\n",
       "}}\n",
       "\n",
       "                        })                };                });            </script>        </div>"
      ]
     },
     "metadata": {},
     "output_type": "display_data"
    },
    {
     "data": {
      "application/vnd.plotly.v1+json": {
       "config": {
        "plotlyServerURL": "https://plot.ly"
       },
       "data": [
        {
         "line": {
          "color": "orange"
         },
         "mode": "lines+markers",
         "name": "Bill (€)",
         "type": "scatter",
         "x": [
          "2022-01-02T00:00:00",
          "2022-01-09T00:00:00",
          "2022-01-16T00:00:00",
          "2022-01-23T00:00:00",
          "2022-01-30T00:00:00",
          "2022-02-06T00:00:00",
          "2022-02-13T00:00:00",
          "2022-02-20T00:00:00",
          "2022-02-27T00:00:00",
          "2022-03-06T00:00:00",
          "2022-03-13T00:00:00",
          "2022-03-20T00:00:00",
          "2022-03-27T00:00:00",
          "2022-04-03T00:00:00",
          "2022-04-10T00:00:00",
          "2022-04-17T00:00:00",
          "2022-04-24T00:00:00",
          "2022-05-01T00:00:00",
          "2022-05-08T00:00:00",
          "2022-05-15T00:00:00",
          "2022-05-22T00:00:00",
          "2022-05-29T00:00:00",
          "2022-06-05T00:00:00",
          "2022-06-12T00:00:00",
          "2022-06-19T00:00:00",
          "2022-06-26T00:00:00",
          "2022-07-03T00:00:00",
          "2022-07-10T00:00:00",
          "2022-07-17T00:00:00",
          "2022-07-24T00:00:00",
          "2022-07-31T00:00:00",
          "2022-08-07T00:00:00",
          "2022-08-14T00:00:00",
          "2022-08-21T00:00:00",
          "2022-08-28T00:00:00",
          "2022-09-04T00:00:00",
          "2022-09-11T00:00:00",
          "2022-09-18T00:00:00",
          "2022-09-25T00:00:00",
          "2022-10-02T00:00:00",
          "2022-10-09T00:00:00",
          "2022-10-16T00:00:00",
          "2022-10-23T00:00:00",
          "2022-10-30T00:00:00",
          "2022-11-06T00:00:00",
          "2022-11-13T00:00:00",
          "2022-11-20T00:00:00",
          "2022-11-27T00:00:00",
          "2022-12-04T00:00:00",
          "2022-12-11T00:00:00",
          "2022-12-18T00:00:00",
          "2022-12-25T00:00:00",
          "2023-01-01T00:00:00",
          "2023-01-08T00:00:00",
          "2023-01-15T00:00:00",
          "2023-01-22T00:00:00",
          "2023-01-29T00:00:00",
          "2023-02-05T00:00:00",
          "2023-02-12T00:00:00",
          "2023-02-19T00:00:00",
          "2023-02-26T00:00:00",
          "2023-03-05T00:00:00",
          "2023-03-12T00:00:00",
          "2023-03-19T00:00:00",
          "2023-03-26T00:00:00",
          "2023-04-02T00:00:00",
          "2023-04-09T00:00:00",
          "2023-04-16T00:00:00",
          "2023-04-23T00:00:00",
          "2023-04-30T00:00:00",
          "2023-05-07T00:00:00",
          "2023-05-14T00:00:00",
          "2023-05-21T00:00:00",
          "2023-05-28T00:00:00",
          "2023-06-04T00:00:00",
          "2023-06-11T00:00:00",
          "2023-06-18T00:00:00",
          "2023-06-25T00:00:00",
          "2023-07-02T00:00:00",
          "2023-07-09T00:00:00",
          "2023-07-16T00:00:00",
          "2023-07-23T00:00:00",
          "2023-07-30T00:00:00",
          "2023-08-06T00:00:00",
          "2023-08-13T00:00:00",
          "2023-08-20T00:00:00",
          "2023-08-27T00:00:00",
          "2023-09-03T00:00:00",
          "2023-09-10T00:00:00",
          "2023-09-17T00:00:00",
          "2023-09-24T00:00:00",
          "2023-10-01T00:00:00",
          "2023-10-08T00:00:00",
          "2023-10-15T00:00:00",
          "2023-10-22T00:00:00",
          "2023-10-29T00:00:00",
          "2023-11-05T00:00:00",
          "2023-11-12T00:00:00",
          "2023-11-19T00:00:00",
          "2023-11-26T00:00:00",
          "2023-12-03T00:00:00",
          "2023-12-10T00:00:00",
          "2023-12-17T00:00:00",
          "2023-12-24T00:00:00",
          "2023-12-31T00:00:00",
          "2024-01-07T00:00:00",
          "2024-01-14T00:00:00",
          "2024-01-21T00:00:00",
          "2024-01-28T00:00:00",
          "2024-02-04T00:00:00",
          "2024-02-11T00:00:00",
          "2024-02-18T00:00:00",
          "2024-02-25T00:00:00",
          "2024-03-03T00:00:00",
          "2024-03-10T00:00:00",
          "2024-03-17T00:00:00",
          "2024-03-24T00:00:00",
          "2024-03-31T00:00:00",
          "2024-04-07T00:00:00",
          "2024-04-14T00:00:00",
          "2024-04-21T00:00:00",
          "2024-04-28T00:00:00",
          "2024-05-05T00:00:00",
          "2024-05-12T00:00:00",
          "2024-05-19T00:00:00",
          "2024-05-26T00:00:00",
          "2024-06-02T00:00:00"
         ],
         "y": [
          9197.84497,
          56354.74745,
          41659.19279,
          36139.3951,
          29535.76667,
          62952.41069,
          21602.30253,
          27184.49899,
          29923.17723,
          33994.51346,
          33804.02497,
          20902.66665,
          21702.05331,
          31082.26599,
          16289.87518,
          19251.6958,
          12824.53714,
          29350.78398,
          28334.69971,
          21289.85253,
          34741.318980000004,
          22326.3458,
          22564.0963,
          22420.5488,
          14942.93178,
          12613.36732,
          21783.04941,
          3131.67643,
          14114.23179,
          23725.471270000002,
          7207.81456,
          9825.61972,
          31339.97992,
          30201.721559999998,
          53646.36484,
          43630.74509,
          53123.92793,
          18349.10121,
          41230.88145,
          48372.69315,
          17464.49335,
          14275.70792,
          29252.03505,
          35799.97189,
          29859.278009999998,
          29768.476599999998,
          86123.45047,
          103030.7656,
          123496.12696,
          92744.63637,
          137692.96634,
          74280.13082,
          15841.12633,
          39453.80268,
          22874.13198,
          27917.63389,
          26544.00795,
          32688.60113,
          18757.37863,
          19013.14843,
          34537.52546,
          19370.59307,
          46784.46289,
          22954.87662,
          16617.62458,
          25684.50736,
          24161.79927,
          8805.80127,
          14111.31335,
          15440.18016,
          23168.46558,
          4413.52887,
          1171.98256,
          542.4834500000001,
          2778.01047,
          2603.45827,
          5338.88552,
          6775.03332,
          6360.24257,
          822.82293,
          2954.42284,
          3458.37953,
          3431.65559,
          3457.95769,
          1174.01978,
          10486.57458,
          25029.74505,
          15119.556630000001,
          5633.53292,
          9029.110349999999,
          1009.39885,
          805.86909,
          3959.20926,
          5932.16997,
          8309.08795,
          26535.64036,
          11605.77427,
          18590.91008,
          39720.52672,
          31924.83778,
          50970.6671,
          68333.47481,
          53731.83798,
          16922.57962,
          21948.18829,
          150179.94321,
          42867.89304,
          59923.61205,
          25605.33623,
          3668.66575,
          58200.8156,
          24028.2544,
          14303.05389,
          12908.78245,
          25842.1994,
          17719.64139,
          23159.30424,
          20355.02207,
          19310.00195,
          5222.32808,
          22309.11868,
          23912.2389,
          11945.90302,
          12931.39212,
          4644.27278,
          1632.6041,
          3120.26991
         ]
        }
       ],
       "layout": {
        "height": 600,
        "template": {
         "data": {
          "candlestick": [
           {
            "decreasing": {
             "line": {
              "color": "#000033"
             }
            },
            "increasing": {
             "line": {
              "color": "#000032"
             }
            },
            "type": "candlestick"
           }
          ],
          "contour": [
           {
            "colorscale": [
             [
              0,
              "#000011"
             ],
             [
              0.1111111111111111,
              "#000012"
             ],
             [
              0.2222222222222222,
              "#000013"
             ],
             [
              0.3333333333333333,
              "#000014"
             ],
             [
              0.4444444444444444,
              "#000015"
             ],
             [
              0.5555555555555556,
              "#000016"
             ],
             [
              0.6666666666666666,
              "#000017"
             ],
             [
              0.7777777777777778,
              "#000018"
             ],
             [
              0.8888888888888888,
              "#000019"
             ],
             [
              1,
              "#000020"
             ]
            ],
            "type": "contour"
           }
          ],
          "contourcarpet": [
           {
            "colorscale": [
             [
              0,
              "#000011"
             ],
             [
              0.1111111111111111,
              "#000012"
             ],
             [
              0.2222222222222222,
              "#000013"
             ],
             [
              0.3333333333333333,
              "#000014"
             ],
             [
              0.4444444444444444,
              "#000015"
             ],
             [
              0.5555555555555556,
              "#000016"
             ],
             [
              0.6666666666666666,
              "#000017"
             ],
             [
              0.7777777777777778,
              "#000018"
             ],
             [
              0.8888888888888888,
              "#000019"
             ],
             [
              1,
              "#000020"
             ]
            ],
            "type": "contourcarpet"
           }
          ],
          "heatmap": [
           {
            "colorscale": [
             [
              0,
              "#000011"
             ],
             [
              0.1111111111111111,
              "#000012"
             ],
             [
              0.2222222222222222,
              "#000013"
             ],
             [
              0.3333333333333333,
              "#000014"
             ],
             [
              0.4444444444444444,
              "#000015"
             ],
             [
              0.5555555555555556,
              "#000016"
             ],
             [
              0.6666666666666666,
              "#000017"
             ],
             [
              0.7777777777777778,
              "#000018"
             ],
             [
              0.8888888888888888,
              "#000019"
             ],
             [
              1,
              "#000020"
             ]
            ],
            "type": "heatmap"
           }
          ],
          "histogram2d": [
           {
            "colorscale": [
             [
              0,
              "#000011"
             ],
             [
              0.1111111111111111,
              "#000012"
             ],
             [
              0.2222222222222222,
              "#000013"
             ],
             [
              0.3333333333333333,
              "#000014"
             ],
             [
              0.4444444444444444,
              "#000015"
             ],
             [
              0.5555555555555556,
              "#000016"
             ],
             [
              0.6666666666666666,
              "#000017"
             ],
             [
              0.7777777777777778,
              "#000018"
             ],
             [
              0.8888888888888888,
              "#000019"
             ],
             [
              1,
              "#000020"
             ]
            ],
            "type": "histogram2d"
           }
          ],
          "icicle": [
           {
            "textfont": {
             "color": "white"
            },
            "type": "icicle"
           }
          ],
          "sankey": [
           {
            "textfont": {
             "color": "#000036"
            },
            "type": "sankey"
           }
          ],
          "scatter": [
           {
            "marker": {
             "line": {
              "width": 0
             }
            },
            "type": "scatter"
           }
          ],
          "table": [
           {
            "cells": {
             "fill": {
              "color": "#000038"
             },
             "font": {
              "color": "#000037"
             },
             "line": {
              "color": "#000039"
             }
            },
            "header": {
             "fill": {
              "color": "#000040"
             },
             "font": {
              "color": "#000036"
             },
             "line": {
              "color": "#000039"
             }
            },
            "type": "table"
           }
          ],
          "waterfall": [
           {
            "connector": {
             "line": {
              "color": "#000036",
              "width": 2
             }
            },
            "decreasing": {
             "marker": {
              "color": "#000033"
             }
            },
            "increasing": {
             "marker": {
              "color": "#000032"
             }
            },
            "totals": {
             "marker": {
              "color": "#000034"
             }
            },
            "type": "waterfall"
           }
          ]
         },
         "layout": {
          "coloraxis": {
           "colorscale": [
            [
             0,
             "#000011"
            ],
            [
             0.1111111111111111,
             "#000012"
            ],
            [
             0.2222222222222222,
             "#000013"
            ],
            [
             0.3333333333333333,
             "#000014"
            ],
            [
             0.4444444444444444,
             "#000015"
            ],
            [
             0.5555555555555556,
             "#000016"
            ],
            [
             0.6666666666666666,
             "#000017"
            ],
            [
             0.7777777777777778,
             "#000018"
            ],
            [
             0.8888888888888888,
             "#000019"
            ],
            [
             1,
             "#000020"
            ]
           ]
          },
          "colorscale": {
           "diverging": [
            [
             0,
             "#000021"
            ],
            [
             0.1,
             "#000022"
            ],
            [
             0.2,
             "#000023"
            ],
            [
             0.3,
             "#000024"
            ],
            [
             0.4,
             "#000025"
            ],
            [
             0.5,
             "#000026"
            ],
            [
             0.6,
             "#000027"
            ],
            [
             0.7,
             "#000028"
            ],
            [
             0.8,
             "#000029"
            ],
            [
             0.9,
             "#000030"
            ],
            [
             1,
             "#000031"
            ]
           ],
           "sequential": [
            [
             0,
             "#000011"
            ],
            [
             0.1111111111111111,
             "#000012"
            ],
            [
             0.2222222222222222,
             "#000013"
            ],
            [
             0.3333333333333333,
             "#000014"
            ],
            [
             0.4444444444444444,
             "#000015"
            ],
            [
             0.5555555555555556,
             "#000016"
            ],
            [
             0.6666666666666666,
             "#000017"
            ],
            [
             0.7777777777777778,
             "#000018"
            ],
            [
             0.8888888888888888,
             "#000019"
            ],
            [
             1,
             "#000020"
            ]
           ],
           "sequentialminus": [
            [
             0,
             "#000011"
            ],
            [
             0.1111111111111111,
             "#000012"
            ],
            [
             0.2222222222222222,
             "#000013"
            ],
            [
             0.3333333333333333,
             "#000014"
            ],
            [
             0.4444444444444444,
             "#000015"
            ],
            [
             0.5555555555555556,
             "#000016"
            ],
            [
             0.6666666666666666,
             "#000017"
            ],
            [
             0.7777777777777778,
             "#000018"
            ],
            [
             0.8888888888888888,
             "#000019"
            ],
            [
             1,
             "#000020"
            ]
           ]
          },
          "colorway": [
           "#000001",
           "#000002",
           "#000003",
           "#000004",
           "#000005",
           "#000006",
           "#000007",
           "#000008",
           "#000009",
           "#000010"
          ]
         }
        },
        "title": {
         "text": "Total Bill Over Time"
        },
        "width": 1200,
        "xaxis": {
         "autorange": true,
         "range": [
          "2021-11-10 01:00:29.0792",
          "2024-07-24 22:59:30.9208"
         ],
         "tickangle": -45,
         "title": {
          "text": "Date"
         },
         "type": "date"
        },
        "yaxis": {
         "autorange": true,
         "range": [
          -9453.541189838057,
          160175.96784983805
         ],
         "title": {
          "text": "Bill (€)"
         },
         "type": "linear"
        }
       }
      },
      "image/png": "[encoded data removed]",
      "text/html": [
       "<div>                            <div id=\"7c7e9e2b-90af-498b-bc57-fa3062e8d670\" class=\"plotly-graph-div\" style=\"height:600px; width:1200px;\"></div>            <script type=\"text/javascript\">                require([\"plotly\"], function(Plotly) {                    window.PLOTLYENV=window.PLOTLYENV || {};                                    if (document.getElementById(\"7c7e9e2b-90af-498b-bc57-fa3062e8d670\")) {                    Plotly.newPlot(                        \"7c7e9e2b-90af-498b-bc57-fa3062e8d670\",                        [{\"line\":{\"color\":\"orange\"},\"mode\":\"lines+markers\",\"name\":\"Bill (€)\",\"x\":[\"2022-01-02T00:00:00\",\"2022-01-09T00:00:00\",\"2022-01-16T00:00:00\",\"2022-01-23T00:00:00\",\"2022-01-30T00:00:00\",\"2022-02-06T00:00:00\",\"2022-02-13T00:00:00\",\"2022-02-20T00:00:00\",\"2022-02-27T00:00:00\",\"2022-03-06T00:00:00\",\"2022-03-13T00:00:00\",\"2022-03-20T00:00:00\",\"2022-03-27T00:00:00\",\"2022-04-03T00:00:00\",\"2022-04-10T00:00:00\",\"2022-04-17T00:00:00\",\"2022-04-24T00:00:00\",\"2022-05-01T00:00:00\",\"2022-05-08T00:00:00\",\"2022-05-15T00:00:00\",\"2022-05-22T00:00:00\",\"2022-05-29T00:00:00\",\"2022-06-05T00:00:00\",\"2022-06-12T00:00:00\",\"2022-06-19T00:00:00\",\"2022-06-26T00:00:00\",\"2022-07-03T00:00:00\",\"2022-07-10T00:00:00\",\"2022-07-17T00:00:00\",\"2022-07-24T00:00:00\",\"2022-07-31T00:00:00\",\"2022-08-07T00:00:00\",\"2022-08-14T00:00:00\",\"2022-08-21T00:00:00\",\"2022-08-28T00:00:00\",\"2022-09-04T00:00:00\",\"2022-09-11T00:00:00\",\"2022-09-18T00:00:00\",\"2022-09-25T00:00:00\",\"2022-10-02T00:00:00\",\"2022-10-09T00:00:00\",\"2022-10-16T00:00:00\",\"2022-10-23T00:00:00\",\"2022-10-30T00:00:00\",\"2022-11-06T00:00:00\",\"2022-11-13T00:00:00\",\"2022-11-20T00:00:00\",\"2022-11-27T00:00:00\",\"2022-12-04T00:00:00\",\"2022-12-11T00:00:00\",\"2022-12-18T00:00:00\",\"2022-12-25T00:00:00\",\"2023-01-01T00:00:00\",\"2023-01-08T00:00:00\",\"2023-01-15T00:00:00\",\"2023-01-22T00:00:00\",\"2023-01-29T00:00:00\",\"2023-02-05T00:00:00\",\"2023-02-12T00:00:00\",\"2023-02-19T00:00:00\",\"2023-02-26T00:00:00\",\"2023-03-05T00:00:00\",\"2023-03-12T00:00:00\",\"2023-03-19T00:00:00\",\"2023-03-26T00:00:00\",\"2023-04-02T00:00:00\",\"2023-04-09T00:00:00\",\"2023-04-16T00:00:00\",\"2023-04-23T00:00:00\",\"2023-04-30T00:00:00\",\"2023-05-07T00:00:00\",\"2023-05-14T00:00:00\",\"2023-05-21T00:00:00\",\"2023-05-28T00:00:00\",\"2023-06-04T00:00:00\",\"2023-06-11T00:00:00\",\"2023-06-18T00:00:00\",\"2023-06-25T00:00:00\",\"2023-07-02T00:00:00\",\"2023-07-09T00:00:00\",\"2023-07-16T00:00:00\",\"2023-07-23T00:00:00\",\"2023-07-30T00:00:00\",\"2023-08-06T00:00:00\",\"2023-08-13T00:00:00\",\"2023-08-20T00:00:00\",\"2023-08-27T00:00:00\",\"2023-09-03T00:00:00\",\"2023-09-10T00:00:00\",\"2023-09-17T00:00:00\",\"2023-09-24T00:00:00\",\"2023-10-01T00:00:00\",\"2023-10-08T00:00:00\",\"2023-10-15T00:00:00\",\"2023-10-22T00:00:00\",\"2023-10-29T00:00:00\",\"2023-11-05T00:00:00\",\"2023-11-12T00:00:00\",\"2023-11-19T00:00:00\",\"2023-11-26T00:00:00\",\"2023-12-03T00:00:00\",\"2023-12-10T00:00:00\",\"2023-12-17T00:00:00\",\"2023-12-24T00:00:00\",\"2023-12-31T00:00:00\",\"2024-01-07T00:00:00\",\"2024-01-14T00:00:00\",\"2024-01-21T00:00:00\",\"2024-01-28T00:00:00\",\"2024-02-04T00:00:00\",\"2024-02-11T00:00:00\",\"2024-02-18T00:00:00\",\"2024-02-25T00:00:00\",\"2024-03-03T00:00:00\",\"2024-03-10T00:00:00\",\"2024-03-17T00:00:00\",\"2024-03-24T00:00:00\",\"2024-03-31T00:00:00\",\"2024-04-07T00:00:00\",\"2024-04-14T00:00:00\",\"2024-04-21T00:00:00\",\"2024-04-28T00:00:00\",\"2024-05-05T00:00:00\",\"2024-05-12T00:00:00\",\"2024-05-19T00:00:00\",\"2024-05-26T00:00:00\",\"2024-06-02T00:00:00\"],\"y\":[9197.84497,56354.74745,41659.19279,36139.3951,29535.76667,62952.41069,21602.30253,27184.49899,29923.17723,33994.51346,33804.02497,20902.66665,21702.05331,31082.26599,16289.87518,19251.6958,12824.53714,29350.78398,28334.69971,21289.85253,34741.318980000004,22326.3458,22564.0963,22420.5488,14942.93178,12613.36732,21783.04941,3131.67643,14114.23179,23725.471270000002,7207.81456,9825.61972,31339.97992,30201.721559999998,53646.36484,43630.74509,53123.92793,18349.10121,41230.88145,48372.69315,17464.49335,14275.70792,29252.03505,35799.97189,29859.278009999998,29768.476599999998,86123.45047,103030.7656,123496.12696,92744.63637,137692.96634,74280.13082,15841.12633,39453.80268,22874.13198,27917.63389,26544.00795,32688.60113,18757.37863,19013.14843,34537.52546,19370.59307,46784.46289,22954.87662,16617.62458,25684.50736,24161.79927,8805.80127,14111.31335,15440.18016,23168.46558,4413.52887,1171.98256,542.4834500000001,2778.01047,2603.45827,5338.88552,6775.03332,6360.24257,822.82293,2954.42284,3458.37953,3431.65559,3457.95769,1174.01978,10486.57458,25029.74505,15119.556630000001,5633.53292,9029.110349999999,1009.39885,805.86909,3959.20926,5932.16997,8309.08795,26535.64036,11605.77427,18590.91008,39720.52672,31924.83778,50970.6671,68333.47481,53731.83798,16922.57962,21948.18829,150179.94321,42867.89304,59923.61205,25605.33623,3668.66575,58200.8156,24028.2544,14303.05389,12908.78245,25842.1994,17719.64139,23159.30424,20355.02207,19310.00195,5222.32808,22309.11868,23912.2389,11945.90302,12931.39212,4644.27278,1632.6041,3120.26991],\"type\":\"scatter\"}],                        {\"template\":{\"data\":{\"candlestick\":[{\"decreasing\":{\"line\":{\"color\":\"#000033\"}},\"increasing\":{\"line\":{\"color\":\"#000032\"}},\"type\":\"candlestick\"}],\"contourcarpet\":[{\"colorscale\":[[0.0,\"#000011\"],[0.1111111111111111,\"#000012\"],[0.2222222222222222,\"#000013\"],[0.3333333333333333,\"#000014\"],[0.4444444444444444,\"#000015\"],[0.5555555555555556,\"#000016\"],[0.6666666666666666,\"#000017\"],[0.7777777777777778,\"#000018\"],[0.8888888888888888,\"#000019\"],[1.0,\"#000020\"]],\"type\":\"contourcarpet\"}],\"contour\":[{\"colorscale\":[[0.0,\"#000011\"],[0.1111111111111111,\"#000012\"],[0.2222222222222222,\"#000013\"],[0.3333333333333333,\"#000014\"],[0.4444444444444444,\"#000015\"],[0.5555555555555556,\"#000016\"],[0.6666666666666666,\"#000017\"],[0.7777777777777778,\"#000018\"],[0.8888888888888888,\"#000019\"],[1.0,\"#000020\"]],\"type\":\"contour\"}],\"heatmap\":[{\"colorscale\":[[0.0,\"#000011\"],[0.1111111111111111,\"#000012\"],[0.2222222222222222,\"#000013\"],[0.3333333333333333,\"#000014\"],[0.4444444444444444,\"#000015\"],[0.5555555555555556,\"#000016\"],[0.6666666666666666,\"#000017\"],[0.7777777777777778,\"#000018\"],[0.8888888888888888,\"#000019\"],[1.0,\"#000020\"]],\"type\":\"heatmap\"}],\"histogram2d\":[{\"colorscale\":[[0.0,\"#000011\"],[0.1111111111111111,\"#000012\"],[0.2222222222222222,\"#000013\"],[0.3333333333333333,\"#000014\"],[0.4444444444444444,\"#000015\"],[0.5555555555555556,\"#000016\"],[0.6666666666666666,\"#000017\"],[0.7777777777777778,\"#000018\"],[0.8888888888888888,\"#000019\"],[1.0,\"#000020\"]],\"type\":\"histogram2d\"}],\"icicle\":[{\"textfont\":{\"color\":\"white\"},\"type\":\"icicle\"}],\"sankey\":[{\"textfont\":{\"color\":\"#000036\"},\"type\":\"sankey\"}],\"scatter\":[{\"marker\":{\"line\":{\"width\":0}},\"type\":\"scatter\"}],\"table\":[{\"cells\":{\"fill\":{\"color\":\"#000038\"},\"font\":{\"color\":\"#000037\"},\"line\":{\"color\":\"#000039\"}},\"header\":{\"fill\":{\"color\":\"#000040\"},\"font\":{\"color\":\"#000036\"},\"line\":{\"color\":\"#000039\"}},\"type\":\"table\"}],\"waterfall\":[{\"connector\":{\"line\":{\"color\":\"#000036\",\"width\":2}},\"decreasing\":{\"marker\":{\"color\":\"#000033\"}},\"increasing\":{\"marker\":{\"color\":\"#000032\"}},\"totals\":{\"marker\":{\"color\":\"#000034\"}},\"type\":\"waterfall\"}]},\"layout\":{\"coloraxis\":{\"colorscale\":[[0.0,\"#000011\"],[0.1111111111111111,\"#000012\"],[0.2222222222222222,\"#000013\"],[0.3333333333333333,\"#000014\"],[0.4444444444444444,\"#000015\"],[0.5555555555555556,\"#000016\"],[0.6666666666666666,\"#000017\"],[0.7777777777777778,\"#000018\"],[0.8888888888888888,\"#000019\"],[1.0,\"#000020\"]]},\"colorscale\":{\"diverging\":[[0.0,\"#000021\"],[0.1,\"#000022\"],[0.2,\"#000023\"],[0.3,\"#000024\"],[0.4,\"#000025\"],[0.5,\"#000026\"],[0.6,\"#000027\"],[0.7,\"#000028\"],[0.8,\"#000029\"],[0.9,\"#000030\"],[1.0,\"#000031\"]],\"sequential\":[[0.0,\"#000011\"],[0.1111111111111111,\"#000012\"],[0.2222222222222222,\"#000013\"],[0.3333333333333333,\"#000014\"],[0.4444444444444444,\"#000015\"],[0.5555555555555556,\"#000016\"],[0.6666666666666666,\"#000017\"],[0.7777777777777778,\"#000018\"],[0.8888888888888888,\"#000019\"],[1.0,\"#000020\"]],\"sequentialminus\":[[0.0,\"#000011\"],[0.1111111111111111,\"#000012\"],[0.2222222222222222,\"#000013\"],[0.3333333333333333,\"#000014\"],[0.4444444444444444,\"#000015\"],[0.5555555555555556,\"#000016\"],[0.6666666666666666,\"#000017\"],[0.7777777777777778,\"#000018\"],[0.8888888888888888,\"#000019\"],[1.0,\"#000020\"]]},\"colorway\":[\"#000001\",\"#000002\",\"#000003\",\"#000004\",\"#000005\",\"#000006\",\"#000007\",\"#000008\",\"#000009\",\"#000010\"]}},\"xaxis\":{\"title\":{\"text\":\"Date\"},\"tickangle\":-45},\"title\":{\"text\":\"Total Bill Over Time\"},\"yaxis\":{\"title\":{\"text\":\"Bill (€)\"}},\"width\":1200,\"height\":600},                        {\"responsive\": true}                    ).then(function(){\n",
       "                            \n",
       "var gd = document.getElementById('7c7e9e2b-90af-498b-bc57-fa3062e8d670');\n",
       "var x = new MutationObserver(function (mutations, observer) {{\n",
       "        var display = window.getComputedStyle(gd).display;\n",
       "        if (!display || display === 'none') {{\n",
       "            console.log([gd, 'removed!']);\n",
       "            Plotly.purge(gd);\n",
       "            observer.disconnect();\n",
       "        }}\n",
       "}});\n",
       "\n",
       "// Listen for the removal of the full notebook cells\n",
       "var notebookContainer = gd.closest('#notebook-container');\n",
       "if (notebookContainer) {{\n",
       "    x.observe(notebookContainer, {childList: true});\n",
       "}}\n",
       "\n",
       "// Listen for the clearing of the current output cell\n",
       "var outputEl = gd.closest('.output');\n",
       "if (outputEl) {{\n",
       "    x.observe(outputEl, {childList: true});\n",
       "}}\n",
       "\n",
       "                        })                };                });            </script>        </div>"
      ]
     },
     "metadata": {},
     "output_type": "display_data"
    },
    {
     "data": {
      "application/vnd.plotly.v1+json": {
       "config": {
        "plotlyServerURL": "https://plot.ly"
       },
       "data": [
        {
         "line": {
          "color": "green"
         },
         "mode": "lines+markers",
         "name": "Average Price (cent/kWh)",
         "type": "scatter",
         "x": [
          "2022-01-02T00:00:00",
          "2022-01-09T00:00:00",
          "2022-01-16T00:00:00",
          "2022-01-23T00:00:00",
          "2022-01-30T00:00:00",
          "2022-02-06T00:00:00",
          "2022-02-13T00:00:00",
          "2022-02-20T00:00:00",
          "2022-02-27T00:00:00",
          "2022-03-06T00:00:00",
          "2022-03-13T00:00:00",
          "2022-03-20T00:00:00",
          "2022-03-27T00:00:00",
          "2022-04-03T00:00:00",
          "2022-04-10T00:00:00",
          "2022-04-17T00:00:00",
          "2022-04-24T00:00:00",
          "2022-05-01T00:00:00",
          "2022-05-08T00:00:00",
          "2022-05-15T00:00:00",
          "2022-05-22T00:00:00",
          "2022-05-29T00:00:00",
          "2022-06-05T00:00:00",
          "2022-06-12T00:00:00",
          "2022-06-19T00:00:00",
          "2022-06-26T00:00:00",
          "2022-07-03T00:00:00",
          "2022-07-10T00:00:00",
          "2022-07-17T00:00:00",
          "2022-07-24T00:00:00",
          "2022-07-31T00:00:00",
          "2022-08-07T00:00:00",
          "2022-08-14T00:00:00",
          "2022-08-21T00:00:00",
          "2022-08-28T00:00:00",
          "2022-09-04T00:00:00",
          "2022-09-11T00:00:00",
          "2022-09-18T00:00:00",
          "2022-09-25T00:00:00",
          "2022-10-02T00:00:00",
          "2022-10-09T00:00:00",
          "2022-10-16T00:00:00",
          "2022-10-23T00:00:00",
          "2022-10-30T00:00:00",
          "2022-11-06T00:00:00",
          "2022-11-13T00:00:00",
          "2022-11-20T00:00:00",
          "2022-11-27T00:00:00",
          "2022-12-04T00:00:00",
          "2022-12-11T00:00:00",
          "2022-12-18T00:00:00",
          "2022-12-25T00:00:00",
          "2023-01-01T00:00:00",
          "2023-01-08T00:00:00",
          "2023-01-15T00:00:00",
          "2023-01-22T00:00:00",
          "2023-01-29T00:00:00",
          "2023-02-05T00:00:00",
          "2023-02-12T00:00:00",
          "2023-02-19T00:00:00",
          "2023-02-26T00:00:00",
          "2023-03-05T00:00:00",
          "2023-03-12T00:00:00",
          "2023-03-19T00:00:00",
          "2023-03-26T00:00:00",
          "2023-04-02T00:00:00",
          "2023-04-09T00:00:00",
          "2023-04-16T00:00:00",
          "2023-04-23T00:00:00",
          "2023-04-30T00:00:00",
          "2023-05-07T00:00:00",
          "2023-05-14T00:00:00",
          "2023-05-21T00:00:00",
          "2023-05-28T00:00:00",
          "2023-06-04T00:00:00",
          "2023-06-11T00:00:00",
          "2023-06-18T00:00:00",
          "2023-06-25T00:00:00",
          "2023-07-02T00:00:00",
          "2023-07-09T00:00:00",
          "2023-07-16T00:00:00",
          "2023-07-23T00:00:00",
          "2023-07-30T00:00:00",
          "2023-08-06T00:00:00",
          "2023-08-13T00:00:00",
          "2023-08-20T00:00:00",
          "2023-08-27T00:00:00",
          "2023-09-03T00:00:00",
          "2023-09-10T00:00:00",
          "2023-09-17T00:00:00",
          "2023-09-24T00:00:00",
          "2023-10-01T00:00:00",
          "2023-10-08T00:00:00",
          "2023-10-15T00:00:00",
          "2023-10-22T00:00:00",
          "2023-10-29T00:00:00",
          "2023-11-05T00:00:00",
          "2023-11-12T00:00:00",
          "2023-11-19T00:00:00",
          "2023-11-26T00:00:00",
          "2023-12-03T00:00:00",
          "2023-12-10T00:00:00",
          "2023-12-17T00:00:00",
          "2023-12-24T00:00:00",
          "2023-12-31T00:00:00",
          "2024-01-07T00:00:00",
          "2024-01-14T00:00:00",
          "2024-01-21T00:00:00",
          "2024-01-28T00:00:00",
          "2024-02-04T00:00:00",
          "2024-02-11T00:00:00",
          "2024-02-18T00:00:00",
          "2024-02-25T00:00:00",
          "2024-03-03T00:00:00",
          "2024-03-10T00:00:00",
          "2024-03-17T00:00:00",
          "2024-03-24T00:00:00",
          "2024-03-31T00:00:00",
          "2024-04-07T00:00:00",
          "2024-04-14T00:00:00",
          "2024-04-21T00:00:00",
          "2024-04-28T00:00:00",
          "2024-05-05T00:00:00",
          "2024-05-12T00:00:00",
          "2024-05-19T00:00:00",
          "2024-05-26T00:00:00",
          "2024-06-02T00:00:00"
         ],
         "y": [
          8.642083333333334,
          17.14829761904762,
          12.0965,
          12.79922619047619,
          11.02127380952381,
          14.900458333333333,
          8.775386904761906,
          8.624791666666667,
          9.308160714285714,
          11.495982142857143,
          14.710761904761904,
          7.225684523809524,
          8.36022754491018,
          11.993714285714285,
          6.340946428571429,
          9.817107142857143,
          7.664755952380953,
          16.035113095238096,
          12.005970238095237,
          13.084553571428572,
          21.66447619047619,
          18.164761904761903,
          16.578482142857144,
          17.782357142857144,
          14.9405,
          15.413488095238094,
          20.836,
          19.93417261904762,
          37.1795,
          23.081309523809523,
          15.413273809523808,
          10.474297619047618,
          33.47440476190476,
          32.30902976190477,
          47.7828869047619,
          36.23455357142857,
          37.01002976190476,
          15.196636904761904,
          24.548660714285717,
          29.941178571428573,
          9.91575,
          8.65535119047619,
          17.064196428571428,
          14.827941520467837,
          13.766904761904764,
          13.13602380952381,
          28.658238095238094,
          32.40821428571429,
          40.11622023809524,
          36.1522380952381,
          38.21141071428571,
          18.70926785714286,
          5.314940476190476,
          10.87897619047619,
          7.20725,
          10.267422619047618,
          7.77272619047619,
          10.883392857142857,
          6.695357142857143,
          7.981398809523809,
          9.924363095238094,
          7.736857142857143,
          12.946636904761904,
          6.90375,
          5.059119760479042,
          6.66897619047619,
          9.111690476190475,
          4.130619047619048,
          6.7950952380952385,
          7.033279761904761,
          8.699857142857143,
          3.277077380952381,
          1.1965476190476192,
          0.7658809523809524,
          1.6566607142857144,
          2.3508095238095237,
          6.128005952380953,
          5.610678571428572,
          8.622636904761904,
          6.028428571428571,
          4.712339285714286,
          2.549547619047619,
          3.3037738095238094,
          3.053755952380952,
          1.037625,
          7.801166666666667,
          18.055910714285716,
          11.489,
          4.313541666666667,
          7.553422619047619,
          0.7915357142857143,
          0.8416190476190476,
          3.4019642857142856,
          2.769285714285714,
          3.6367440476190476,
          8.53566081871345,
          4.041071428571429,
          7.124642857142858,
          11.998482142857142,
          9.485583333333333,
          13.142583333333334,
          14.337273809523808,
          12.26655357142857,
          3.9061666666666666,
          5.536005952380952,
          30.098,
          10.268488095238094,
          11.394452380952382,
          5.708994047619048,
          1.3791011904761905,
          12.892071428571429,
          5.626851190476191,
          4.906154761904762,
          4.974297619047619,
          10.458660714285715,
          6.141869047619048,
          6.940565476190477,
          6.652245508982036,
          4.946357142857143,
          2.522232142857143,
          7.293755952380953,
          9.477988095238095,
          6.333797619047619,
          5.778458333333333,
          3.7745654761904768,
          1.4287440476190476,
          4.831048611111111
         ]
        }
       ],
       "layout": {
        "height": 600,
        "template": {
         "data": {
          "candlestick": [
           {
            "decreasing": {
             "line": {
              "color": "#000033"
             }
            },
            "increasing": {
             "line": {
              "color": "#000032"
             }
            },
            "type": "candlestick"
           }
          ],
          "contour": [
           {
            "colorscale": [
             [
              0,
              "#000011"
             ],
             [
              0.1111111111111111,
              "#000012"
             ],
             [
              0.2222222222222222,
              "#000013"
             ],
             [
              0.3333333333333333,
              "#000014"
             ],
             [
              0.4444444444444444,
              "#000015"
             ],
             [
              0.5555555555555556,
              "#000016"
             ],
             [
              0.6666666666666666,
              "#000017"
             ],
             [
              0.7777777777777778,
              "#000018"
             ],
             [
              0.8888888888888888,
              "#000019"
             ],
             [
              1,
              "#000020"
             ]
            ],
            "type": "contour"
           }
          ],
          "contourcarpet": [
           {
            "colorscale": [
             [
              0,
              "#000011"
             ],
             [
              0.1111111111111111,
              "#000012"
             ],
             [
              0.2222222222222222,
              "#000013"
             ],
             [
              0.3333333333333333,
              "#000014"
             ],
             [
              0.4444444444444444,
              "#000015"
             ],
             [
              0.5555555555555556,
              "#000016"
             ],
             [
              0.6666666666666666,
              "#000017"
             ],
             [
              0.7777777777777778,
              "#000018"
             ],
             [
              0.8888888888888888,
              "#000019"
             ],
             [
              1,
              "#000020"
             ]
            ],
            "type": "contourcarpet"
           }
          ],
          "heatmap": [
           {
            "colorscale": [
             [
              0,
              "#000011"
             ],
             [
              0.1111111111111111,
              "#000012"
             ],
             [
              0.2222222222222222,
              "#000013"
             ],
             [
              0.3333333333333333,
              "#000014"
             ],
             [
              0.4444444444444444,
              "#000015"
             ],
             [
              0.5555555555555556,
              "#000016"
             ],
             [
              0.6666666666666666,
              "#000017"
             ],
             [
              0.7777777777777778,
              "#000018"
             ],
             [
              0.8888888888888888,
              "#000019"
             ],
             [
              1,
              "#000020"
             ]
            ],
            "type": "heatmap"
           }
          ],
          "histogram2d": [
           {
            "colorscale": [
             [
              0,
              "#000011"
             ],
             [
              0.1111111111111111,
              "#000012"
             ],
             [
              0.2222222222222222,
              "#000013"
             ],
             [
              0.3333333333333333,
              "#000014"
             ],
             [
              0.4444444444444444,
              "#000015"
             ],
             [
              0.5555555555555556,
              "#000016"
             ],
             [
              0.6666666666666666,
              "#000017"
             ],
             [
              0.7777777777777778,
              "#000018"
             ],
             [
              0.8888888888888888,
              "#000019"
             ],
             [
              1,
              "#000020"
             ]
            ],
            "type": "histogram2d"
           }
          ],
          "icicle": [
           {
            "textfont": {
             "color": "white"
            },
            "type": "icicle"
           }
          ],
          "sankey": [
           {
            "textfont": {
             "color": "#000036"
            },
            "type": "sankey"
           }
          ],
          "scatter": [
           {
            "marker": {
             "line": {
              "width": 0
             }
            },
            "type": "scatter"
           }
          ],
          "table": [
           {
            "cells": {
             "fill": {
              "color": "#000038"
             },
             "font": {
              "color": "#000037"
             },
             "line": {
              "color": "#000039"
             }
            },
            "header": {
             "fill": {
              "color": "#000040"
             },
             "font": {
              "color": "#000036"
             },
             "line": {
              "color": "#000039"
             }
            },
            "type": "table"
           }
          ],
          "waterfall": [
           {
            "connector": {
             "line": {
              "color": "#000036",
              "width": 2
             }
            },
            "decreasing": {
             "marker": {
              "color": "#000033"
             }
            },
            "increasing": {
             "marker": {
              "color": "#000032"
             }
            },
            "totals": {
             "marker": {
              "color": "#000034"
             }
            },
            "type": "waterfall"
           }
          ]
         },
         "layout": {
          "coloraxis": {
           "colorscale": [
            [
             0,
             "#000011"
            ],
            [
             0.1111111111111111,
             "#000012"
            ],
            [
             0.2222222222222222,
             "#000013"
            ],
            [
             0.3333333333333333,
             "#000014"
            ],
            [
             0.4444444444444444,
             "#000015"
            ],
            [
             0.5555555555555556,
             "#000016"
            ],
            [
             0.6666666666666666,
             "#000017"
            ],
            [
             0.7777777777777778,
             "#000018"
            ],
            [
             0.8888888888888888,
             "#000019"
            ],
            [
             1,
             "#000020"
            ]
           ]
          },
          "colorscale": {
           "diverging": [
            [
             0,
             "#000021"
            ],
            [
             0.1,
             "#000022"
            ],
            [
             0.2,
             "#000023"
            ],
            [
             0.3,
             "#000024"
            ],
            [
             0.4,
             "#000025"
            ],
            [
             0.5,
             "#000026"
            ],
            [
             0.6,
             "#000027"
            ],
            [
             0.7,
             "#000028"
            ],
            [
             0.8,
             "#000029"
            ],
            [
             0.9,
             "#000030"
            ],
            [
             1,
             "#000031"
            ]
           ],
           "sequential": [
            [
             0,
             "#000011"
            ],
            [
             0.1111111111111111,
             "#000012"
            ],
            [
             0.2222222222222222,
             "#000013"
            ],
            [
             0.3333333333333333,
             "#000014"
            ],
            [
             0.4444444444444444,
             "#000015"
            ],
            [
             0.5555555555555556,
             "#000016"
            ],
            [
             0.6666666666666666,
             "#000017"
            ],
            [
             0.7777777777777778,
             "#000018"
            ],
            [
             0.8888888888888888,
             "#000019"
            ],
            [
             1,
             "#000020"
            ]
           ],
           "sequentialminus": [
            [
             0,
             "#000011"
            ],
            [
             0.1111111111111111,
             "#000012"
            ],
            [
             0.2222222222222222,
             "#000013"
            ],
            [
             0.3333333333333333,
             "#000014"
            ],
            [
             0.4444444444444444,
             "#000015"
            ],
            [
             0.5555555555555556,
             "#000016"
            ],
            [
             0.6666666666666666,
             "#000017"
            ],
            [
             0.7777777777777778,
             "#000018"
            ],
            [
             0.8888888888888888,
             "#000019"
            ],
            [
             1,
             "#000020"
            ]
           ]
          },
          "colorway": [
           "#000001",
           "#000002",
           "#000003",
           "#000004",
           "#000005",
           "#000006",
           "#000007",
           "#000008",
           "#000009",
           "#000010"
          ]
         }
        },
        "title": {
         "text": "Average Price Over Time"
        },
        "width": 1200,
        "xaxis": {
         "autorange": true,
         "range": [
          "2021-11-10 01:00:29.0792",
          "2024-07-24 22:59:30.9208"
         ],
         "tickangle": -45,
         "title": {
          "text": "Date"
         },
         "type": "date"
        },
        "yaxis": {
         "autorange": true,
         "range": [
          -2.374931186138423,
          50.923699043281275
         ],
         "title": {
          "text": "Average Price (cent/kWh)"
         },
         "type": "linear"
        }
       }
      },
      "image/png": "[encoded data removed]",
      "text/html": [
       "<div>                            <div id=\"bf663447-9f1c-444f-a219-a3b52964e643\" class=\"plotly-graph-div\" style=\"height:600px; width:1200px;\"></div>            <script type=\"text/javascript\">                require([\"plotly\"], function(Plotly) {                    window.PLOTLYENV=window.PLOTLYENV || {};                                    if (document.getElementById(\"bf663447-9f1c-444f-a219-a3b52964e643\")) {                    Plotly.newPlot(                        \"bf663447-9f1c-444f-a219-a3b52964e643\",                        [{\"line\":{\"color\":\"green\"},\"mode\":\"lines+markers\",\"name\":\"Average Price (cent\\u002fkWh)\",\"x\":[\"2022-01-02T00:00:00\",\"2022-01-09T00:00:00\",\"2022-01-16T00:00:00\",\"2022-01-23T00:00:00\",\"2022-01-30T00:00:00\",\"2022-02-06T00:00:00\",\"2022-02-13T00:00:00\",\"2022-02-20T00:00:00\",\"2022-02-27T00:00:00\",\"2022-03-06T00:00:00\",\"2022-03-13T00:00:00\",\"2022-03-20T00:00:00\",\"2022-03-27T00:00:00\",\"2022-04-03T00:00:00\",\"2022-04-10T00:00:00\",\"2022-04-17T00:00:00\",\"2022-04-24T00:00:00\",\"2022-05-01T00:00:00\",\"2022-05-08T00:00:00\",\"2022-05-15T00:00:00\",\"2022-05-22T00:00:00\",\"2022-05-29T00:00:00\",\"2022-06-05T00:00:00\",\"2022-06-12T00:00:00\",\"2022-06-19T00:00:00\",\"2022-06-26T00:00:00\",\"2022-07-03T00:00:00\",\"2022-07-10T00:00:00\",\"2022-07-17T00:00:00\",\"2022-07-24T00:00:00\",\"2022-07-31T00:00:00\",\"2022-08-07T00:00:00\",\"2022-08-14T00:00:00\",\"2022-08-21T00:00:00\",\"2022-08-28T00:00:00\",\"2022-09-04T00:00:00\",\"2022-09-11T00:00:00\",\"2022-09-18T00:00:00\",\"2022-09-25T00:00:00\",\"2022-10-02T00:00:00\",\"2022-10-09T00:00:00\",\"2022-10-16T00:00:00\",\"2022-10-23T00:00:00\",\"2022-10-30T00:00:00\",\"2022-11-06T00:00:00\",\"2022-11-13T00:00:00\",\"2022-11-20T00:00:00\",\"2022-11-27T00:00:00\",\"2022-12-04T00:00:00\",\"2022-12-11T00:00:00\",\"2022-12-18T00:00:00\",\"2022-12-25T00:00:00\",\"2023-01-01T00:00:00\",\"2023-01-08T00:00:00\",\"2023-01-15T00:00:00\",\"2023-01-22T00:00:00\",\"2023-01-29T00:00:00\",\"2023-02-05T00:00:00\",\"2023-02-12T00:00:00\",\"2023-02-19T00:00:00\",\"2023-02-26T00:00:00\",\"2023-03-05T00:00:00\",\"2023-03-12T00:00:00\",\"2023-03-19T00:00:00\",\"2023-03-26T00:00:00\",\"2023-04-02T00:00:00\",\"2023-04-09T00:00:00\",\"2023-04-16T00:00:00\",\"2023-04-23T00:00:00\",\"2023-04-30T00:00:00\",\"2023-05-07T00:00:00\",\"2023-05-14T00:00:00\",\"2023-05-21T00:00:00\",\"2023-05-28T00:00:00\",\"2023-06-04T00:00:00\",\"2023-06-11T00:00:00\",\"2023-06-18T00:00:00\",\"2023-06-25T00:00:00\",\"2023-07-02T00:00:00\",\"2023-07-09T00:00:00\",\"2023-07-16T00:00:00\",\"2023-07-23T00:00:00\",\"2023-07-30T00:00:00\",\"2023-08-06T00:00:00\",\"2023-08-13T00:00:00\",\"2023-08-20T00:00:00\",\"2023-08-27T00:00:00\",\"2023-09-03T00:00:00\",\"2023-09-10T00:00:00\",\"2023-09-17T00:00:00\",\"2023-09-24T00:00:00\",\"2023-10-01T00:00:00\",\"2023-10-08T00:00:00\",\"2023-10-15T00:00:00\",\"2023-10-22T00:00:00\",\"2023-10-29T00:00:00\",\"2023-11-05T00:00:00\",\"2023-11-12T00:00:00\",\"2023-11-19T00:00:00\",\"2023-11-26T00:00:00\",\"2023-12-03T00:00:00\",\"2023-12-10T00:00:00\",\"2023-12-17T00:00:00\",\"2023-12-24T00:00:00\",\"2023-12-31T00:00:00\",\"2024-01-07T00:00:00\",\"2024-01-14T00:00:00\",\"2024-01-21T00:00:00\",\"2024-01-28T00:00:00\",\"2024-02-04T00:00:00\",\"2024-02-11T00:00:00\",\"2024-02-18T00:00:00\",\"2024-02-25T00:00:00\",\"2024-03-03T00:00:00\",\"2024-03-10T00:00:00\",\"2024-03-17T00:00:00\",\"2024-03-24T00:00:00\",\"2024-03-31T00:00:00\",\"2024-04-07T00:00:00\",\"2024-04-14T00:00:00\",\"2024-04-21T00:00:00\",\"2024-04-28T00:00:00\",\"2024-05-05T00:00:00\",\"2024-05-12T00:00:00\",\"2024-05-19T00:00:00\",\"2024-05-26T00:00:00\",\"2024-06-02T00:00:00\"],\"y\":[8.642083333333334,17.14829761904762,12.0965,12.79922619047619,11.02127380952381,14.900458333333333,8.775386904761906,8.624791666666667,9.308160714285714,11.495982142857143,14.710761904761904,7.225684523809524,8.36022754491018,11.993714285714285,6.340946428571429,9.817107142857143,7.664755952380953,16.035113095238096,12.005970238095237,13.084553571428572,21.66447619047619,18.164761904761903,16.578482142857144,17.782357142857144,14.9405,15.413488095238094,20.836,19.93417261904762,37.1795,23.081309523809523,15.413273809523808,10.474297619047618,33.47440476190476,32.30902976190477,47.7828869047619,36.23455357142857,37.01002976190476,15.196636904761904,24.548660714285717,29.941178571428573,9.91575,8.65535119047619,17.064196428571428,14.827941520467837,13.766904761904764,13.13602380952381,28.658238095238094,32.40821428571429,40.11622023809524,36.1522380952381,38.21141071428571,18.70926785714286,5.314940476190476,10.87897619047619,7.20725,10.267422619047618,7.77272619047619,10.883392857142857,6.695357142857143,7.981398809523809,9.924363095238094,7.736857142857143,12.946636904761904,6.90375,5.059119760479042,6.66897619047619,9.111690476190475,4.130619047619048,6.7950952380952385,7.033279761904761,8.699857142857143,3.277077380952381,1.1965476190476192,0.7658809523809524,1.6566607142857144,2.3508095238095237,6.128005952380953,5.610678571428572,8.622636904761904,6.028428571428571,4.712339285714286,2.549547619047619,3.3037738095238094,3.053755952380952,1.037625,7.801166666666667,18.055910714285716,11.489,4.313541666666667,7.553422619047619,0.7915357142857143,0.8416190476190476,3.4019642857142856,2.769285714285714,3.6367440476190476,8.53566081871345,4.041071428571429,7.124642857142858,11.998482142857142,9.485583333333333,13.142583333333334,14.337273809523808,12.26655357142857,3.9061666666666666,5.536005952380952,30.098,10.268488095238094,11.394452380952382,5.708994047619048,1.3791011904761905,12.892071428571429,5.626851190476191,4.906154761904762,4.974297619047619,10.458660714285715,6.141869047619048,6.940565476190477,6.652245508982036,4.946357142857143,2.522232142857143,7.293755952380953,9.477988095238095,6.333797619047619,5.778458333333333,3.7745654761904768,1.4287440476190476,4.831048611111111],\"type\":\"scatter\"}],                        {\"template\":{\"data\":{\"candlestick\":[{\"decreasing\":{\"line\":{\"color\":\"#000033\"}},\"increasing\":{\"line\":{\"color\":\"#000032\"}},\"type\":\"candlestick\"}],\"contourcarpet\":[{\"colorscale\":[[0.0,\"#000011\"],[0.1111111111111111,\"#000012\"],[0.2222222222222222,\"#000013\"],[0.3333333333333333,\"#000014\"],[0.4444444444444444,\"#000015\"],[0.5555555555555556,\"#000016\"],[0.6666666666666666,\"#000017\"],[0.7777777777777778,\"#000018\"],[0.8888888888888888,\"#000019\"],[1.0,\"#000020\"]],\"type\":\"contourcarpet\"}],\"contour\":[{\"colorscale\":[[0.0,\"#000011\"],[0.1111111111111111,\"#000012\"],[0.2222222222222222,\"#000013\"],[0.3333333333333333,\"#000014\"],[0.4444444444444444,\"#000015\"],[0.5555555555555556,\"#000016\"],[0.6666666666666666,\"#000017\"],[0.7777777777777778,\"#000018\"],[0.8888888888888888,\"#000019\"],[1.0,\"#000020\"]],\"type\":\"contour\"}],\"heatmap\":[{\"colorscale\":[[0.0,\"#000011\"],[0.1111111111111111,\"#000012\"],[0.2222222222222222,\"#000013\"],[0.3333333333333333,\"#000014\"],[0.4444444444444444,\"#000015\"],[0.5555555555555556,\"#000016\"],[0.6666666666666666,\"#000017\"],[0.7777777777777778,\"#000018\"],[0.8888888888888888,\"#000019\"],[1.0,\"#000020\"]],\"type\":\"heatmap\"}],\"histogram2d\":[{\"colorscale\":[[0.0,\"#000011\"],[0.1111111111111111,\"#000012\"],[0.2222222222222222,\"#000013\"],[0.3333333333333333,\"#000014\"],[0.4444444444444444,\"#000015\"],[0.5555555555555556,\"#000016\"],[0.6666666666666666,\"#000017\"],[0.7777777777777778,\"#000018\"],[0.8888888888888888,\"#000019\"],[1.0,\"#000020\"]],\"type\":\"histogram2d\"}],\"icicle\":[{\"textfont\":{\"color\":\"white\"},\"type\":\"icicle\"}],\"sankey\":[{\"textfont\":{\"color\":\"#000036\"},\"type\":\"sankey\"}],\"scatter\":[{\"marker\":{\"line\":{\"width\":0}},\"type\":\"scatter\"}],\"table\":[{\"cells\":{\"fill\":{\"color\":\"#000038\"},\"font\":{\"color\":\"#000037\"},\"line\":{\"color\":\"#000039\"}},\"header\":{\"fill\":{\"color\":\"#000040\"},\"font\":{\"color\":\"#000036\"},\"line\":{\"color\":\"#000039\"}},\"type\":\"table\"}],\"waterfall\":[{\"connector\":{\"line\":{\"color\":\"#000036\",\"width\":2}},\"decreasing\":{\"marker\":{\"color\":\"#000033\"}},\"increasing\":{\"marker\":{\"color\":\"#000032\"}},\"totals\":{\"marker\":{\"color\":\"#000034\"}},\"type\":\"waterfall\"}]},\"layout\":{\"coloraxis\":{\"colorscale\":[[0.0,\"#000011\"],[0.1111111111111111,\"#000012\"],[0.2222222222222222,\"#000013\"],[0.3333333333333333,\"#000014\"],[0.4444444444444444,\"#000015\"],[0.5555555555555556,\"#000016\"],[0.6666666666666666,\"#000017\"],[0.7777777777777778,\"#000018\"],[0.8888888888888888,\"#000019\"],[1.0,\"#000020\"]]},\"colorscale\":{\"diverging\":[[0.0,\"#000021\"],[0.1,\"#000022\"],[0.2,\"#000023\"],[0.3,\"#000024\"],[0.4,\"#000025\"],[0.5,\"#000026\"],[0.6,\"#000027\"],[0.7,\"#000028\"],[0.8,\"#000029\"],[0.9,\"#000030\"],[1.0,\"#000031\"]],\"sequential\":[[0.0,\"#000011\"],[0.1111111111111111,\"#000012\"],[0.2222222222222222,\"#000013\"],[0.3333333333333333,\"#000014\"],[0.4444444444444444,\"#000015\"],[0.5555555555555556,\"#000016\"],[0.6666666666666666,\"#000017\"],[0.7777777777777778,\"#000018\"],[0.8888888888888888,\"#000019\"],[1.0,\"#000020\"]],\"sequentialminus\":[[0.0,\"#000011\"],[0.1111111111111111,\"#000012\"],[0.2222222222222222,\"#000013\"],[0.3333333333333333,\"#000014\"],[0.4444444444444444,\"#000015\"],[0.5555555555555556,\"#000016\"],[0.6666666666666666,\"#000017\"],[0.7777777777777778,\"#000018\"],[0.8888888888888888,\"#000019\"],[1.0,\"#000020\"]]},\"colorway\":[\"#000001\",\"#000002\",\"#000003\",\"#000004\",\"#000005\",\"#000006\",\"#000007\",\"#000008\",\"#000009\",\"#000010\"]}},\"xaxis\":{\"title\":{\"text\":\"Date\"},\"tickangle\":-45},\"title\":{\"text\":\"Average Price Over Time\"},\"yaxis\":{\"title\":{\"text\":\"Average Price (cent\\u002fkWh)\"}},\"width\":1200,\"height\":600},                        {\"responsive\": true}                    ).then(function(){\n",
       "                            \n",
       "var gd = document.getElementById('bf663447-9f1c-444f-a219-a3b52964e643');\n",
       "var x = new MutationObserver(function (mutations, observer) {{\n",
       "        var display = window.getComputedStyle(gd).display;\n",
       "        if (!display || display === 'none') {{\n",
       "            console.log([gd, 'removed!']);\n",
       "            Plotly.purge(gd);\n",
       "            observer.disconnect();\n",
       "        }}\n",
       "}});\n",
       "\n",
       "// Listen for the removal of the full notebook cells\n",
       "var notebookContainer = gd.closest('#notebook-container');\n",
       "if (notebookContainer) {{\n",
       "    x.observe(notebookContainer, {childList: true});\n",
       "}}\n",
       "\n",
       "// Listen for the clearing of the current output cell\n",
       "var outputEl = gd.closest('.output');\n",
       "if (outputEl) {{\n",
       "    x.observe(outputEl, {childList: true});\n",
       "}}\n",
       "\n",
       "                        })                };                });            </script>        </div>"
      ]
     },
     "metadata": {},
     "output_type": "display_data"
    },
    {
     "data": {
      "application/vnd.plotly.v1+json": {
       "config": {
        "plotlyServerURL": "https://plot.ly"
       },
       "data": [
        {
         "line": {
          "color": "red"
         },
         "mode": "lines+markers",
         "name": "Average Temperature (°C)",
         "type": "scatter",
         "x": [
          "2022-01-02T00:00:00",
          "2022-01-09T00:00:00",
          "2022-01-16T00:00:00",
          "2022-01-23T00:00:00",
          "2022-01-30T00:00:00",
          "2022-02-06T00:00:00",
          "2022-02-13T00:00:00",
          "2022-02-20T00:00:00",
          "2022-02-27T00:00:00",
          "2022-03-06T00:00:00",
          "2022-03-13T00:00:00",
          "2022-03-20T00:00:00",
          "2022-03-27T00:00:00",
          "2022-04-03T00:00:00",
          "2022-04-10T00:00:00",
          "2022-04-17T00:00:00",
          "2022-04-24T00:00:00",
          "2022-05-01T00:00:00",
          "2022-05-08T00:00:00",
          "2022-05-15T00:00:00",
          "2022-05-22T00:00:00",
          "2022-05-29T00:00:00",
          "2022-06-05T00:00:00",
          "2022-06-12T00:00:00",
          "2022-06-19T00:00:00",
          "2022-06-26T00:00:00",
          "2022-07-03T00:00:00",
          "2022-07-10T00:00:00",
          "2022-07-17T00:00:00",
          "2022-07-24T00:00:00",
          "2022-07-31T00:00:00",
          "2022-08-07T00:00:00",
          "2022-08-14T00:00:00",
          "2022-08-21T00:00:00",
          "2022-08-28T00:00:00",
          "2022-09-04T00:00:00",
          "2022-09-11T00:00:00",
          "2022-09-18T00:00:00",
          "2022-09-25T00:00:00",
          "2022-10-02T00:00:00",
          "2022-10-09T00:00:00",
          "2022-10-16T00:00:00",
          "2022-10-23T00:00:00",
          "2022-10-30T00:00:00",
          "2022-11-06T00:00:00",
          "2022-11-13T00:00:00",
          "2022-11-20T00:00:00",
          "2022-11-27T00:00:00",
          "2022-12-04T00:00:00",
          "2022-12-11T00:00:00",
          "2022-12-18T00:00:00",
          "2022-12-25T00:00:00",
          "2023-01-01T00:00:00",
          "2023-01-08T00:00:00",
          "2023-01-15T00:00:00",
          "2023-01-22T00:00:00",
          "2023-01-29T00:00:00",
          "2023-02-05T00:00:00",
          "2023-02-12T00:00:00",
          "2023-02-19T00:00:00",
          "2023-02-26T00:00:00",
          "2023-03-05T00:00:00",
          "2023-03-12T00:00:00",
          "2023-03-19T00:00:00",
          "2023-03-26T00:00:00",
          "2023-04-02T00:00:00",
          "2023-04-09T00:00:00",
          "2023-04-16T00:00:00",
          "2023-04-23T00:00:00",
          "2023-04-30T00:00:00",
          "2023-05-07T00:00:00",
          "2023-05-14T00:00:00",
          "2023-05-21T00:00:00",
          "2023-05-28T00:00:00",
          "2023-06-04T00:00:00",
          "2023-06-11T00:00:00",
          "2023-06-18T00:00:00",
          "2023-06-25T00:00:00",
          "2023-07-02T00:00:00",
          "2023-07-09T00:00:00",
          "2023-07-16T00:00:00",
          "2023-07-23T00:00:00",
          "2023-07-30T00:00:00",
          "2023-08-06T00:00:00",
          "2023-08-13T00:00:00",
          "2023-08-20T00:00:00",
          "2023-08-27T00:00:00",
          "2023-09-03T00:00:00",
          "2023-09-10T00:00:00",
          "2023-09-17T00:00:00",
          "2023-09-24T00:00:00",
          "2023-10-01T00:00:00",
          "2023-10-08T00:00:00",
          "2023-10-15T00:00:00",
          "2023-10-22T00:00:00",
          "2023-10-29T00:00:00",
          "2023-11-05T00:00:00",
          "2023-11-12T00:00:00",
          "2023-11-19T00:00:00",
          "2023-11-26T00:00:00",
          "2023-12-03T00:00:00",
          "2023-12-10T00:00:00",
          "2023-12-17T00:00:00",
          "2023-12-24T00:00:00",
          "2023-12-31T00:00:00",
          "2024-01-07T00:00:00",
          "2024-01-14T00:00:00",
          "2024-01-21T00:00:00",
          "2024-01-28T00:00:00",
          "2024-02-04T00:00:00",
          "2024-02-11T00:00:00",
          "2024-02-18T00:00:00",
          "2024-02-25T00:00:00",
          "2024-03-03T00:00:00",
          "2024-03-10T00:00:00",
          "2024-03-17T00:00:00",
          "2024-03-24T00:00:00",
          "2024-03-31T00:00:00",
          "2024-04-07T00:00:00",
          "2024-04-14T00:00:00",
          "2024-04-21T00:00:00",
          "2024-04-28T00:00:00",
          "2024-05-05T00:00:00",
          "2024-05-12T00:00:00",
          "2024-05-19T00:00:00",
          "2024-05-26T00:00:00",
          "2024-06-02T00:00:00"
         ],
         "y": [
          -122.33333333333333,
          -145.60714285714286,
          -40.375,
          -44.482142857142854,
          -50.36904761904762,
          -117.73214285714286,
          -48.416666666666664,
          -58.726190476190474,
          -81.29166666666667,
          -29.50595238095238,
          -37.041666666666664,
          -10.18452380952381,
          -5.62874251497006,
          -57.404761904761905,
          -10.976190476190476,
          11.351190476190476,
          50.898809523809526,
          4.363095238095238,
          36.75595238095238,
          77.67261904761905,
          78.85119047619048,
          119.42857142857143,
          134.1904761904762,
          131.9702380952381,
          127.1547619047619,
          161.91071428571428,
          227.45833333333334,
          166.10119047619048,
          166.73214285714286,
          161.66666666666666,
          153.94642857142858,
          158.39880952380952,
          146.30357142857142,
          193.6845238095238,
          141.36904761904762,
          88.98809523809524,
          77.83333333333333,
          108.49404761904762,
          74.42261904761905,
          60.48809523809524,
          70.51785714285714,
          73.78571428571429,
          31.886904761904763,
          19.52046783625731,
          19.63095238095238,
          10.976190476190476,
          -35.666666666666664,
          -56.04761904761905,
          -31.25595238095238,
          -47.625,
          -102.01785714285714,
          -65.19642857142857,
          -36.75,
          -105.97619047619048,
          -22.160714285714285,
          -13.630952380952381,
          -20.36904761904762,
          -72.55357142857143,
          -26.029761904761905,
          -13.797619047619047,
          -122.61904761904762,
          -20.851190476190474,
          -127.17857142857143,
          -53.982142857142854,
          -68.94011976047904,
          -58.601190476190474,
          -17.125,
          18.327380952380953,
          23.589285714285715,
          26.88095238095238,
          21.660714285714285,
          103.8452380952381,
          120.01785714285714,
          109.05357142857143,
          84.89285714285714,
          104.91666666666667,
          165.27380952380952,
          188.13690476190476,
          170.32738095238096,
          152.2797619047619,
          169.94642857142858,
          153.4404761904762,
          156.07142857142858,
          178.66071428571428,
          186.625,
          146.33928571428572,
          141.17857142857142,
          146.86309523809524,
          133.51190476190476,
          109.625,
          108.04166666666667,
          114.85119047619048,
          48.86309523809524,
          23.49404761904762,
          -17.625,
          -62.26315789473684,
          -42.964285714285715,
          -16.5,
          -54.88095238095238,
          -69.31547619047619,
          -81.29166666666667,
          -124.30952380952381,
          -81.83928571428571,
          -35.55357142857143,
          -87.63095238095238,
          -264.69642857142856,
          -91.39880952380952,
          -198.74404761904762,
          -57.654761904761905,
          -5.880952380952381,
          -192.67261904761904,
          -109.9047619047619,
          -3.9642857142857144,
          6.398809523809524,
          -23.11904761904762,
          -27.976190476190474,
          -27.553571428571427,
          -21.20359281437126,
          -43.964285714285715,
          37.51190476190476,
          -12.255952380952381,
          11.982142857142858,
          45.476190476190474,
          27.43452380952381,
          129.26785714285714,
          116.88095238095238,
          187.61805555555554
         ]
        }
       ],
       "layout": {
        "height": 600,
        "template": {
         "data": {
          "candlestick": [
           {
            "decreasing": {
             "line": {
              "color": "#000033"
             }
            },
            "increasing": {
             "line": {
              "color": "#000032"
             }
            },
            "type": "candlestick"
           }
          ],
          "contour": [
           {
            "colorscale": [
             [
              0,
              "#000011"
             ],
             [
              0.1111111111111111,
              "#000012"
             ],
             [
              0.2222222222222222,
              "#000013"
             ],
             [
              0.3333333333333333,
              "#000014"
             ],
             [
              0.4444444444444444,
              "#000015"
             ],
             [
              0.5555555555555556,
              "#000016"
             ],
             [
              0.6666666666666666,
              "#000017"
             ],
             [
              0.7777777777777778,
              "#000018"
             ],
             [
              0.8888888888888888,
              "#000019"
             ],
             [
              1,
              "#000020"
             ]
            ],
            "type": "contour"
           }
          ],
          "contourcarpet": [
           {
            "colorscale": [
             [
              0,
              "#000011"
             ],
             [
              0.1111111111111111,
              "#000012"
             ],
             [
              0.2222222222222222,
              "#000013"
             ],
             [
              0.3333333333333333,
              "#000014"
             ],
             [
              0.4444444444444444,
              "#000015"
             ],
             [
              0.5555555555555556,
              "#000016"
             ],
             [
              0.6666666666666666,
              "#000017"
             ],
             [
              0.7777777777777778,
              "#000018"
             ],
             [
              0.8888888888888888,
              "#000019"
             ],
             [
              1,
              "#000020"
             ]
            ],
            "type": "contourcarpet"
           }
          ],
          "heatmap": [
           {
            "colorscale": [
             [
              0,
              "#000011"
             ],
             [
              0.1111111111111111,
              "#000012"
             ],
             [
              0.2222222222222222,
              "#000013"
             ],
             [
              0.3333333333333333,
              "#000014"
             ],
             [
              0.4444444444444444,
              "#000015"
             ],
             [
              0.5555555555555556,
              "#000016"
             ],
             [
              0.6666666666666666,
              "#000017"
             ],
             [
              0.7777777777777778,
              "#000018"
             ],
             [
              0.8888888888888888,
              "#000019"
             ],
             [
              1,
              "#000020"
             ]
            ],
            "type": "heatmap"
           }
          ],
          "histogram2d": [
           {
            "colorscale": [
             [
              0,
              "#000011"
             ],
             [
              0.1111111111111111,
              "#000012"
             ],
             [
              0.2222222222222222,
              "#000013"
             ],
             [
              0.3333333333333333,
              "#000014"
             ],
             [
              0.4444444444444444,
              "#000015"
             ],
             [
              0.5555555555555556,
              "#000016"
             ],
             [
              0.6666666666666666,
              "#000017"
             ],
             [
              0.7777777777777778,
              "#000018"
             ],
             [
              0.8888888888888888,
              "#000019"
             ],
             [
              1,
              "#000020"
             ]
            ],
            "type": "histogram2d"
           }
          ],
          "icicle": [
           {
            "textfont": {
             "color": "white"
            },
            "type": "icicle"
           }
          ],
          "sankey": [
           {
            "textfont": {
             "color": "#000036"
            },
            "type": "sankey"
           }
          ],
          "scatter": [
           {
            "marker": {
             "line": {
              "width": 0
             }
            },
            "type": "scatter"
           }
          ],
          "table": [
           {
            "cells": {
             "fill": {
              "color": "#000038"
             },
             "font": {
              "color": "#000037"
             },
             "line": {
              "color": "#000039"
             }
            },
            "header": {
             "fill": {
              "color": "#000040"
             },
             "font": {
              "color": "#000036"
             },
             "line": {
              "color": "#000039"
             }
            },
            "type": "table"
           }
          ],
          "waterfall": [
           {
            "connector": {
             "line": {
              "color": "#000036",
              "width": 2
             }
            },
            "decreasing": {
             "marker": {
              "color": "#000033"
             }
            },
            "increasing": {
             "marker": {
              "color": "#000032"
             }
            },
            "totals": {
             "marker": {
              "color": "#000034"
             }
            },
            "type": "waterfall"
           }
          ]
         },
         "layout": {
          "coloraxis": {
           "colorscale": [
            [
             0,
             "#000011"
            ],
            [
             0.1111111111111111,
             "#000012"
            ],
            [
             0.2222222222222222,
             "#000013"
            ],
            [
             0.3333333333333333,
             "#000014"
            ],
            [
             0.4444444444444444,
             "#000015"
            ],
            [
             0.5555555555555556,
             "#000016"
            ],
            [
             0.6666666666666666,
             "#000017"
            ],
            [
             0.7777777777777778,
             "#000018"
            ],
            [
             0.8888888888888888,
             "#000019"
            ],
            [
             1,
             "#000020"
            ]
           ]
          },
          "colorscale": {
           "diverging": [
            [
             0,
             "#000021"
            ],
            [
             0.1,
             "#000022"
            ],
            [
             0.2,
             "#000023"
            ],
            [
             0.3,
             "#000024"
            ],
            [
             0.4,
             "#000025"
            ],
            [
             0.5,
             "#000026"
            ],
            [
             0.6,
             "#000027"
            ],
            [
             0.7,
             "#000028"
            ],
            [
             0.8,
             "#000029"
            ],
            [
             0.9,
             "#000030"
            ],
            [
             1,
             "#000031"
            ]
           ],
           "sequential": [
            [
             0,
             "#000011"
            ],
            [
             0.1111111111111111,
             "#000012"
            ],
            [
             0.2222222222222222,
             "#000013"
            ],
            [
             0.3333333333333333,
             "#000014"
            ],
            [
             0.4444444444444444,
             "#000015"
            ],
            [
             0.5555555555555556,
             "#000016"
            ],
            [
             0.6666666666666666,
             "#000017"
            ],
            [
             0.7777777777777778,
             "#000018"
            ],
            [
             0.8888888888888888,
             "#000019"
            ],
            [
             1,
             "#000020"
            ]
           ],
           "sequentialminus": [
            [
             0,
             "#000011"
            ],
            [
             0.1111111111111111,
             "#000012"
            ],
            [
             0.2222222222222222,
             "#000013"
            ],
            [
             0.3333333333333333,
             "#000014"
            ],
            [
             0.4444444444444444,
             "#000015"
            ],
            [
             0.5555555555555556,
             "#000016"
            ],
            [
             0.6666666666666666,
             "#000017"
            ],
            [
             0.7777777777777778,
             "#000018"
            ],
            [
             0.8888888888888888,
             "#000019"
            ],
            [
             1,
             "#000020"
            ]
           ]
          },
          "colorway": [
           "#000001",
           "#000002",
           "#000003",
           "#000004",
           "#000005",
           "#000006",
           "#000007",
           "#000008",
           "#000009",
           "#000010"
          ]
         }
        },
        "title": {
         "text": "Average Temperature Over Time"
        },
        "width": 1200,
        "xaxis": {
         "autorange": true,
         "range": [
          "2021-11-10 01:00:29.0792",
          "2024-07-24 22:59:30.9208"
         ],
         "tickangle": -45,
         "title": {
          "text": "Date"
         },
         "type": "date"
        },
        "yaxis": {
         "autorange": true,
         "range": [
          -297.5731636784268,
          260.3350684403316
         ],
         "title": {
          "text": "Average Temperature (°C)"
         },
         "type": "linear"
        }
       }
      },
      "image/png": "[encoded data removed]",
      "text/html": [
       "<div>                            <div id=\"ac33e9c9-049a-4f87-aae5-d8c5860d4c0d\" class=\"plotly-graph-div\" style=\"height:600px; width:1200px;\"></div>            <script type=\"text/javascript\">                require([\"plotly\"], function(Plotly) {                    window.PLOTLYENV=window.PLOTLYENV || {};                                    if (document.getElementById(\"ac33e9c9-049a-4f87-aae5-d8c5860d4c0d\")) {                    Plotly.newPlot(                        \"ac33e9c9-049a-4f87-aae5-d8c5860d4c0d\",                        [{\"line\":{\"color\":\"red\"},\"mode\":\"lines+markers\",\"name\":\"Average Temperature (°C)\",\"x\":[\"2022-01-02T00:00:00\",\"2022-01-09T00:00:00\",\"2022-01-16T00:00:00\",\"2022-01-23T00:00:00\",\"2022-01-30T00:00:00\",\"2022-02-06T00:00:00\",\"2022-02-13T00:00:00\",\"2022-02-20T00:00:00\",\"2022-02-27T00:00:00\",\"2022-03-06T00:00:00\",\"2022-03-13T00:00:00\",\"2022-03-20T00:00:00\",\"2022-03-27T00:00:00\",\"2022-04-03T00:00:00\",\"2022-04-10T00:00:00\",\"2022-04-17T00:00:00\",\"2022-04-24T00:00:00\",\"2022-05-01T00:00:00\",\"2022-05-08T00:00:00\",\"2022-05-15T00:00:00\",\"2022-05-22T00:00:00\",\"2022-05-29T00:00:00\",\"2022-06-05T00:00:00\",\"2022-06-12T00:00:00\",\"2022-06-19T00:00:00\",\"2022-06-26T00:00:00\",\"2022-07-03T00:00:00\",\"2022-07-10T00:00:00\",\"2022-07-17T00:00:00\",\"2022-07-24T00:00:00\",\"2022-07-31T00:00:00\",\"2022-08-07T00:00:00\",\"2022-08-14T00:00:00\",\"2022-08-21T00:00:00\",\"2022-08-28T00:00:00\",\"2022-09-04T00:00:00\",\"2022-09-11T00:00:00\",\"2022-09-18T00:00:00\",\"2022-09-25T00:00:00\",\"2022-10-02T00:00:00\",\"2022-10-09T00:00:00\",\"2022-10-16T00:00:00\",\"2022-10-23T00:00:00\",\"2022-10-30T00:00:00\",\"2022-11-06T00:00:00\",\"2022-11-13T00:00:00\",\"2022-11-20T00:00:00\",\"2022-11-27T00:00:00\",\"2022-12-04T00:00:00\",\"2022-12-11T00:00:00\",\"2022-12-18T00:00:00\",\"2022-12-25T00:00:00\",\"2023-01-01T00:00:00\",\"2023-01-08T00:00:00\",\"2023-01-15T00:00:00\",\"2023-01-22T00:00:00\",\"2023-01-29T00:00:00\",\"2023-02-05T00:00:00\",\"2023-02-12T00:00:00\",\"2023-02-19T00:00:00\",\"2023-02-26T00:00:00\",\"2023-03-05T00:00:00\",\"2023-03-12T00:00:00\",\"2023-03-19T00:00:00\",\"2023-03-26T00:00:00\",\"2023-04-02T00:00:00\",\"2023-04-09T00:00:00\",\"2023-04-16T00:00:00\",\"2023-04-23T00:00:00\",\"2023-04-30T00:00:00\",\"2023-05-07T00:00:00\",\"2023-05-14T00:00:00\",\"2023-05-21T00:00:00\",\"2023-05-28T00:00:00\",\"2023-06-04T00:00:00\",\"2023-06-11T00:00:00\",\"2023-06-18T00:00:00\",\"2023-06-25T00:00:00\",\"2023-07-02T00:00:00\",\"2023-07-09T00:00:00\",\"2023-07-16T00:00:00\",\"2023-07-23T00:00:00\",\"2023-07-30T00:00:00\",\"2023-08-06T00:00:00\",\"2023-08-13T00:00:00\",\"2023-08-20T00:00:00\",\"2023-08-27T00:00:00\",\"2023-09-03T00:00:00\",\"2023-09-10T00:00:00\",\"2023-09-17T00:00:00\",\"2023-09-24T00:00:00\",\"2023-10-01T00:00:00\",\"2023-10-08T00:00:00\",\"2023-10-15T00:00:00\",\"2023-10-22T00:00:00\",\"2023-10-29T00:00:00\",\"2023-11-05T00:00:00\",\"2023-11-12T00:00:00\",\"2023-11-19T00:00:00\",\"2023-11-26T00:00:00\",\"2023-12-03T00:00:00\",\"2023-12-10T00:00:00\",\"2023-12-17T00:00:00\",\"2023-12-24T00:00:00\",\"2023-12-31T00:00:00\",\"2024-01-07T00:00:00\",\"2024-01-14T00:00:00\",\"2024-01-21T00:00:00\",\"2024-01-28T00:00:00\",\"2024-02-04T00:00:00\",\"2024-02-11T00:00:00\",\"2024-02-18T00:00:00\",\"2024-02-25T00:00:00\",\"2024-03-03T00:00:00\",\"2024-03-10T00:00:00\",\"2024-03-17T00:00:00\",\"2024-03-24T00:00:00\",\"2024-03-31T00:00:00\",\"2024-04-07T00:00:00\",\"2024-04-14T00:00:00\",\"2024-04-21T00:00:00\",\"2024-04-28T00:00:00\",\"2024-05-05T00:00:00\",\"2024-05-12T00:00:00\",\"2024-05-19T00:00:00\",\"2024-05-26T00:00:00\",\"2024-06-02T00:00:00\"],\"y\":[-122.33333333333333,-145.60714285714286,-40.375,-44.482142857142854,-50.36904761904762,-117.73214285714286,-48.416666666666664,-58.726190476190474,-81.29166666666667,-29.50595238095238,-37.041666666666664,-10.18452380952381,-5.62874251497006,-57.404761904761905,-10.976190476190476,11.351190476190476,50.898809523809526,4.363095238095238,36.75595238095238,77.67261904761905,78.85119047619048,119.42857142857143,134.1904761904762,131.9702380952381,127.1547619047619,161.91071428571428,227.45833333333334,166.10119047619048,166.73214285714286,161.66666666666666,153.94642857142858,158.39880952380952,146.30357142857142,193.6845238095238,141.36904761904762,88.98809523809524,77.83333333333333,108.49404761904762,74.42261904761905,60.48809523809524,70.51785714285714,73.78571428571429,31.886904761904763,19.52046783625731,19.63095238095238,10.976190476190476,-35.666666666666664,-56.04761904761905,-31.25595238095238,-47.625,-102.01785714285714,-65.19642857142857,-36.75,-105.97619047619048,-22.160714285714285,-13.630952380952381,-20.36904761904762,-72.55357142857143,-26.029761904761905,-13.797619047619047,-122.61904761904762,-20.851190476190474,-127.17857142857143,-53.982142857142854,-68.94011976047904,-58.601190476190474,-17.125,18.327380952380953,23.589285714285715,26.88095238095238,21.660714285714285,103.8452380952381,120.01785714285714,109.05357142857143,84.89285714285714,104.91666666666667,165.27380952380952,188.13690476190476,170.32738095238096,152.2797619047619,169.94642857142858,153.4404761904762,156.07142857142858,178.66071428571428,186.625,146.33928571428572,141.17857142857142,146.86309523809524,133.51190476190476,109.625,108.04166666666667,114.85119047619048,48.86309523809524,23.49404761904762,-17.625,-62.26315789473684,-42.964285714285715,-16.5,-54.88095238095238,-69.31547619047619,-81.29166666666667,-124.30952380952381,-81.83928571428571,-35.55357142857143,-87.63095238095238,-264.69642857142856,-91.39880952380952,-198.74404761904762,-57.654761904761905,-5.880952380952381,-192.67261904761904,-109.9047619047619,-3.9642857142857144,6.398809523809524,-23.11904761904762,-27.976190476190474,-27.553571428571427,-21.20359281437126,-43.964285714285715,37.51190476190476,-12.255952380952381,11.982142857142858,45.476190476190474,27.43452380952381,129.26785714285714,116.88095238095238,187.61805555555554],\"type\":\"scatter\"}],                        {\"template\":{\"data\":{\"candlestick\":[{\"decreasing\":{\"line\":{\"color\":\"#000033\"}},\"increasing\":{\"line\":{\"color\":\"#000032\"}},\"type\":\"candlestick\"}],\"contourcarpet\":[{\"colorscale\":[[0.0,\"#000011\"],[0.1111111111111111,\"#000012\"],[0.2222222222222222,\"#000013\"],[0.3333333333333333,\"#000014\"],[0.4444444444444444,\"#000015\"],[0.5555555555555556,\"#000016\"],[0.6666666666666666,\"#000017\"],[0.7777777777777778,\"#000018\"],[0.8888888888888888,\"#000019\"],[1.0,\"#000020\"]],\"type\":\"contourcarpet\"}],\"contour\":[{\"colorscale\":[[0.0,\"#000011\"],[0.1111111111111111,\"#000012\"],[0.2222222222222222,\"#000013\"],[0.3333333333333333,\"#000014\"],[0.4444444444444444,\"#000015\"],[0.5555555555555556,\"#000016\"],[0.6666666666666666,\"#000017\"],[0.7777777777777778,\"#000018\"],[0.8888888888888888,\"#000019\"],[1.0,\"#000020\"]],\"type\":\"contour\"}],\"heatmap\":[{\"colorscale\":[[0.0,\"#000011\"],[0.1111111111111111,\"#000012\"],[0.2222222222222222,\"#000013\"],[0.3333333333333333,\"#000014\"],[0.4444444444444444,\"#000015\"],[0.5555555555555556,\"#000016\"],[0.6666666666666666,\"#000017\"],[0.7777777777777778,\"#000018\"],[0.8888888888888888,\"#000019\"],[1.0,\"#000020\"]],\"type\":\"heatmap\"}],\"histogram2d\":[{\"colorscale\":[[0.0,\"#000011\"],[0.1111111111111111,\"#000012\"],[0.2222222222222222,\"#000013\"],[0.3333333333333333,\"#000014\"],[0.4444444444444444,\"#000015\"],[0.5555555555555556,\"#000016\"],[0.6666666666666666,\"#000017\"],[0.7777777777777778,\"#000018\"],[0.8888888888888888,\"#000019\"],[1.0,\"#000020\"]],\"type\":\"histogram2d\"}],\"icicle\":[{\"textfont\":{\"color\":\"white\"},\"type\":\"icicle\"}],\"sankey\":[{\"textfont\":{\"color\":\"#000036\"},\"type\":\"sankey\"}],\"scatter\":[{\"marker\":{\"line\":{\"width\":0}},\"type\":\"scatter\"}],\"table\":[{\"cells\":{\"fill\":{\"color\":\"#000038\"},\"font\":{\"color\":\"#000037\"},\"line\":{\"color\":\"#000039\"}},\"header\":{\"fill\":{\"color\":\"#000040\"},\"font\":{\"color\":\"#000036\"},\"line\":{\"color\":\"#000039\"}},\"type\":\"table\"}],\"waterfall\":[{\"connector\":{\"line\":{\"color\":\"#000036\",\"width\":2}},\"decreasing\":{\"marker\":{\"color\":\"#000033\"}},\"increasing\":{\"marker\":{\"color\":\"#000032\"}},\"totals\":{\"marker\":{\"color\":\"#000034\"}},\"type\":\"waterfall\"}]},\"layout\":{\"coloraxis\":{\"colorscale\":[[0.0,\"#000011\"],[0.1111111111111111,\"#000012\"],[0.2222222222222222,\"#000013\"],[0.3333333333333333,\"#000014\"],[0.4444444444444444,\"#000015\"],[0.5555555555555556,\"#000016\"],[0.6666666666666666,\"#000017\"],[0.7777777777777778,\"#000018\"],[0.8888888888888888,\"#000019\"],[1.0,\"#000020\"]]},\"colorscale\":{\"diverging\":[[0.0,\"#000021\"],[0.1,\"#000022\"],[0.2,\"#000023\"],[0.3,\"#000024\"],[0.4,\"#000025\"],[0.5,\"#000026\"],[0.6,\"#000027\"],[0.7,\"#000028\"],[0.8,\"#000029\"],[0.9,\"#000030\"],[1.0,\"#000031\"]],\"sequential\":[[0.0,\"#000011\"],[0.1111111111111111,\"#000012\"],[0.2222222222222222,\"#000013\"],[0.3333333333333333,\"#000014\"],[0.4444444444444444,\"#000015\"],[0.5555555555555556,\"#000016\"],[0.6666666666666666,\"#000017\"],[0.7777777777777778,\"#000018\"],[0.8888888888888888,\"#000019\"],[1.0,\"#000020\"]],\"sequentialminus\":[[0.0,\"#000011\"],[0.1111111111111111,\"#000012\"],[0.2222222222222222,\"#000013\"],[0.3333333333333333,\"#000014\"],[0.4444444444444444,\"#000015\"],[0.5555555555555556,\"#000016\"],[0.6666666666666666,\"#000017\"],[0.7777777777777778,\"#000018\"],[0.8888888888888888,\"#000019\"],[1.0,\"#000020\"]]},\"colorway\":[\"#000001\",\"#000002\",\"#000003\",\"#000004\",\"#000005\",\"#000006\",\"#000007\",\"#000008\",\"#000009\",\"#000010\"]}},\"xaxis\":{\"title\":{\"text\":\"Date\"},\"tickangle\":-45},\"title\":{\"text\":\"Average Temperature Over Time\"},\"yaxis\":{\"title\":{\"text\":\"Average Temperature (°C)\"}},\"width\":1200,\"height\":600},                        {\"responsive\": true}                    ).then(function(){\n",
       "                            \n",
       "var gd = document.getElementById('ac33e9c9-049a-4f87-aae5-d8c5860d4c0d');\n",
       "var x = new MutationObserver(function (mutations, observer) {{\n",
       "        var display = window.getComputedStyle(gd).display;\n",
       "        if (!display || display === 'none') {{\n",
       "            console.log([gd, 'removed!']);\n",
       "            Plotly.purge(gd);\n",
       "            observer.disconnect();\n",
       "        }}\n",
       "}});\n",
       "\n",
       "// Listen for the removal of the full notebook cells\n",
       "var notebookContainer = gd.closest('#notebook-container');\n",
       "if (notebookContainer) {{\n",
       "    x.observe(notebookContainer, {childList: true});\n",
       "}}\n",
       "\n",
       "// Listen for the clearing of the current output cell\n",
       "var outputEl = gd.closest('.output');\n",
       "if (outputEl) {{\n",
       "    x.observe(outputEl, {childList: true});\n",
       "}}\n",
       "\n",
       "                        })                };                });            </script>        </div>"
      ]
     },
     "metadata": {},
     "output_type": "display_data"
    }
   ],
   "source": [
    "\n",
    "# Assuming `filtered_df` is your DataFrame with the filtered data.\n",
    "\n",
    "# Ensure 'Date' is in datetime format\n",
    "filtered_df['Date'] = pd.to_datetime(filtered_df['Date'])\n",
    "\n",
    "# Step 1: Input for grouping interval\n",
    "grouping_interval = input(\"Select grouping interval (daily, weekly, monthly): \").strip().lower()\n",
    "\n",
    "# Step 2: Calculate metrics based on the selected interval\n",
    "if grouping_interval == 'daily':\n",
    "    # Group by date\n",
    "    summary = filtered_df.groupby('Date').agg(\n",
    "        Daily_Consumption=('Energy (kWh)', 'sum'),\n",
    "        Daily_Bill=('Hourly Bill', 'sum'),\n",
    "        Average_Price=('Price (cent/kWh)', 'mean'),\n",
    "        Average_Temperature=('Temperature', 'mean')\n",
    "    ).reset_index()\n",
    "\n",
    "elif grouping_interval == 'weekly':\n",
    "    # Group by week\n",
    "    summary = filtered_df.resample('W', on='Date').agg(\n",
    "        Weekly_Consumption=('Energy (kWh)', 'sum'),\n",
    "        Weekly_Bill=('Hourly Bill', 'sum'),\n",
    "        Average_Price=('Price (cent/kWh)', 'mean'),\n",
    "        Average_Temperature=('Temperature', 'mean')\n",
    "    ).reset_index()\n",
    "\n",
    "elif grouping_interval == 'monthly':\n",
    "    # Group by month\n",
    "    summary = filtered_df.resample('M', on='Date').agg(\n",
    "        Monthly_Consumption=('Energy (kWh)', 'sum'),\n",
    "        Monthly_Bill=('Hourly Bill', 'sum'),\n",
    "        Average_Price=('Price (cent/kWh)', 'mean'),\n",
    "        Average_Temperature=('Temperature', 'mean')\n",
    "    ).reset_index()\n",
    "\n",
    "else:\n",
    "    print(\"Invalid grouping interval selected.\")\n",
    "    summary = pd.DataFrame()  # Empty DataFrame if invalid input\n",
    "\n",
    "# Step 3: Calculate total metrics\n",
    "if not summary.empty:\n",
    "    total_consumption = summary['Daily_Consumption'].sum() if grouping_interval == 'daily' else \\\n",
    "                        summary['Weekly_Consumption'].sum() if grouping_interval == 'weekly' else \\\n",
    "                        summary['Monthly_Consumption'].sum()\n",
    "\n",
    "    total_bill = summary['Daily_Bill'].sum() if grouping_interval == 'daily' else \\\n",
    "                 summary['Weekly_Bill'].sum() if grouping_interval == 'weekly' else \\\n",
    "                 summary['Monthly_Bill'].sum()\n",
    "\n",
    "    average_price = summary['Average_Price'].mean() if grouping_interval == 'daily' else \\\n",
    "                    summary['Average_Price'].mean() if grouping_interval == 'weekly' else \\\n",
    "                    summary['Average_Price'].mean()\n",
    "\n",
    "    average_temperature = summary['Average_Temperature'].mean() if grouping_interval == 'daily' else \\\n",
    "                         summary['Average_Temperature'].mean() if grouping_interval == 'weekly' else \\\n",
    "                         summary['Average_Temperature'].mean()\n",
    "\n",
    "    # Step 4: Visualization of individual metrics using Plotly\n",
    "\n",
    "    # Set figure size\n",
    "    chart_width = 1200\n",
    "    chart_height = 600\n",
    "\n",
    "    # Consumption plot\n",
    "    fig1 = go.Figure()\n",
    "    fig1.add_trace(go.Scatter(x=summary['Date'], \n",
    "                               y=summary['Daily_Consumption'] if grouping_interval == 'daily' else \n",
    "                                 summary['Weekly_Consumption'] if grouping_interval == 'weekly' else \n",
    "                                 summary['Monthly_Consumption'],\n",
    "                               mode='lines+markers',\n",
    "                               name='Consumption (kWh)'))\n",
    "    fig1.update_layout(title='Total Consumption Over Time',\n",
    "                       xaxis_title='Date',\n",
    "                       yaxis_title='Consumption (kWh)',\n",
    "                       xaxis_tickangle=-45,\n",
    "                       width=chart_width,\n",
    "                       height=chart_height)\n",
    "    fig1.show()\n",
    "\n",
    "    # Bill plot\n",
    "    fig2 = go.Figure()\n",
    "    fig2.add_trace(go.Scatter(x=summary['Date'], \n",
    "                               y=summary['Daily_Bill'] if grouping_interval == 'daily' else \n",
    "                                 summary['Weekly_Bill'] if grouping_interval == 'weekly' else \n",
    "                                 summary['Monthly_Bill'],\n",
    "                               mode='lines+markers',\n",
    "                               name='Bill (€)', line=dict(color='orange')))\n",
    "    fig2.update_layout(title='Total Bill Over Time',\n",
    "                       xaxis_title='Date',\n",
    "                       yaxis_title='Bill (€)',\n",
    "                       xaxis_tickangle=-45,\n",
    "                       width=chart_width,\n",
    "                       height=chart_height)\n",
    "    fig2.show()\n",
    "\n",
    "    # Average Price plot\n",
    "    fig3 = go.Figure()\n",
    "    fig3.add_trace(go.Scatter(x=summary['Date'], \n",
    "                               y=summary['Average_Price'],\n",
    "                               mode='lines+markers',\n",
    "                               name='Average Price (cent/kWh)', line=dict(color='green')))\n",
    "    fig3.update_layout(title='Average Price Over Time',\n",
    "                       xaxis_title='Date',\n",
    "                       yaxis_title='Average Price (cent/kWh)',\n",
    "                       xaxis_tickangle=-45,\n",
    "                       width=chart_width,\n",
    "                       height=chart_height)\n",
    "    fig3.show()\n",
    "\n",
    "    # Average Temperature plot\n",
    "    fig4 = go.Figure()\n",
    "    fig4.add_trace(go.Scatter(x=summary['Date'], \n",
    "                               y=summary['Average_Temperature'],\n",
    "                               mode='lines+markers',\n",
    "                               name='Average Temperature (°C)', line=dict(color='red')))\n",
    "    fig4.update_layout(title='Average Temperature Over Time',\n",
    "                       xaxis_title='Date',\n",
    "                       yaxis_title='Average Temperature (°C)',\n",
    "                       xaxis_tickangle=-45,\n",
    "                       width=chart_width,\n",
    "                       height=chart_height)\n",
    "    fig4.show()\n",
    "\n",
    "else:\n",
    "    print(\"No data available for the selected grouping interval.\")\n"
   ]
  },
  {
   "cell_type": "code",
   "execution_count": null,
   "id": "bc026f19-569a-4be2-8bbd-689e50a383dc",
   "metadata": {},
   "outputs": [],
   "source": []
  }
 ],
 "metadata": {
  "kernelspec": {
   "display_name": "Python 3 (ipykernel)",
   "language": "python",
   "name": "python3"
  },
  "language_info": {
   "codemirror_mode": {
    "name": "ipython",
    "version": 3
   },
   "file_extension": ".py",
   "mimetype": "text/x-python",
   "name": "python",
   "nbconvert_exporter": "python",
   "pygments_lexer": "ipython3",
   "version": "3.12.4"
  }
 },
 "nbformat": 4,
 "nbformat_minor": 5
}
